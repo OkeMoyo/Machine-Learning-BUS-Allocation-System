{
 "cells": [
  {
   "cell_type": "markdown",
   "id": "7c1776a6",
   "metadata": {},
   "source": [
    "# **ML Optimal BUS Allocation System**"
   ]
  },
  {
   "cell_type": "markdown",
   "id": "2585dfb6",
   "metadata": {},
   "source": [
    "## **Data Pre-Processing**"
   ]
  },
  {
   "cell_type": "markdown",
   "id": "8371b0b0",
   "metadata": {},
   "source": [
    "Import the EHS and EPC datasets.\n",
    "\n",
    "Note:\n",
    "1. EHS dataset - 2018-2019 Teaching dataset\n",
    "2. EPC dataset - 2008-2023"
   ]
  },
  {
   "cell_type": "code",
   "execution_count": 9,
   "id": "26cbf5a0",
   "metadata": {},
   "outputs": [
    {
     "data": {
      "application/vnd.microsoft.datawrangler.viewer.v0+json": {
       "columns": [
        {
         "name": "index",
         "rawType": "int64",
         "type": "integer"
        },
        {
         "name": "serialanon",
         "rawType": "int64",
         "type": "integer"
        },
        {
         "name": "aagfh18",
         "rawType": "float64",
         "type": "float"
        },
        {
         "name": "aagfh18new",
         "rawType": "float64",
         "type": "float"
        },
        {
         "name": "gorehs",
         "rawType": "int64",
         "type": "integer"
        },
        {
         "name": "hhcomp1",
         "rawType": "int64",
         "type": "integer"
        },
        {
         "name": "hhtype6",
         "rawType": "int64",
         "type": "integer"
        },
        {
         "name": "hhsizex",
         "rawType": "int64",
         "type": "integer"
        },
        {
         "name": "ndepchild",
         "rawType": "int64",
         "type": "integer"
        },
        {
         "name": "noUnits1",
         "rawType": "int64",
         "type": "integer"
        },
        {
         "name": "agehrp4x",
         "rawType": "int64",
         "type": "integer"
        },
        {
         "name": "agehrp6x",
         "rawType": "int64",
         "type": "integer"
        },
        {
         "name": "emphrpx",
         "rawType": "int64",
         "type": "integer"
        },
        {
         "name": "ethhrp2x",
         "rawType": "int64",
         "type": "integer"
        },
        {
         "name": "sexhrp",
         "rawType": "int64",
         "type": "integer"
        },
        {
         "name": "bedstdx",
         "rawType": "int64",
         "type": "integer"
        },
        {
         "name": "nbedsx",
         "rawType": "int64",
         "type": "integer"
        },
        {
         "name": "bedrqx",
         "rawType": "int64",
         "type": "integer"
        },
        {
         "name": "nrooms1a",
         "rawType": "int64",
         "type": "integer"
        },
        {
         "name": "sharer",
         "rawType": "int64",
         "type": "integer"
        },
        {
         "name": "accomhh1",
         "rawType": "int64",
         "type": "integer"
        },
        {
         "name": "lenresb",
         "rawType": "int64",
         "type": "integer"
        },
        {
         "name": "ftbuyer",
         "rawType": "int64",
         "type": "integer"
        },
        {
         "name": "tenure2",
         "rawType": "int64",
         "type": "integer"
        },
        {
         "name": "tenure4",
         "rawType": "int64",
         "type": "integer"
        },
        {
         "name": "hhltsick",
         "rawType": "int64",
         "type": "integer"
        },
        {
         "name": "mortwkx",
         "rawType": "float64",
         "type": "float"
        },
        {
         "name": "rentwkx",
         "rawType": "float64",
         "type": "float"
        },
        {
         "name": "amthbenx",
         "rawType": "float64",
         "type": "float"
        },
        {
         "name": "housbenx",
         "rawType": "int64",
         "type": "integer"
        },
        {
         "name": "JOINTINCx",
         "rawType": "float64",
         "type": "float"
        },
        {
         "name": "HYEARGRx",
         "rawType": "float64",
         "type": "float"
        },
        {
         "name": "hhvulx",
         "rawType": "int64",
         "type": "integer"
        }
       ],
       "conversionMethod": "pd.DataFrame",
       "ref": "c197b22f-1e06-4b9a-9fc3-5dc6c3c59c91",
       "rows": [
        [
         "0",
         "18190000002",
         "810.653613028386",
         "0.462654485775734",
         "4",
         "7",
         "5",
         "1",
         "0",
         "1",
         "3",
         "5",
         "2",
         "1",
         "2",
         "5",
         "3",
         "1",
         "5",
         "2",
         "2",
         "7",
         "3",
         "4",
         "2",
         "2",
         "-9.0",
         "86.7692307692308",
         "0.0",
         "2",
         "6760.0",
         "6760.0",
         "2"
        ],
        [
         "1",
         "18190000005",
         "2757.28412056473",
         "1.57363126054778",
         "10",
         "7",
         "5",
         "1",
         "0",
         "1",
         "3",
         "4",
         "1",
         "1",
         "2",
         "4",
         "2",
         "1",
         "4",
         "2",
         "3",
         "6",
         "2",
         "2",
         "1",
         "1",
         "80.7692307692308",
         "-9.0",
         "-9.0",
         "-9",
         "41175.0",
         "41175.0",
         "2"
        ],
        [
         "2",
         "18190000006",
         "708.592029448452",
         "0.404406118396931",
         "1",
         "1",
         "1",
         "2",
         "0",
         "1",
         "4",
         "6",
         "3",
         "1",
         "1",
         "5",
         "4",
         "1",
         "6",
         "2",
         "3",
         "8",
         "3",
         "4",
         "2",
         "1",
         "-9.0",
         "107.0",
         "0.0",
         "2",
         "13336.0",
         "13336.0",
         "2"
        ],
        [
         "3",
         "18190000008",
         "3458.74106897176",
         "1.97396526084503",
         "10",
         "1",
         "2",
         "4",
         "1",
         "1",
         "3",
         "4",
         "2",
         "1",
         "2",
         "4",
         "4",
         "3",
         "6",
         "2",
         "1",
         "5",
         "2",
         "2",
         "1",
         "2",
         "570.623527333377",
         "-9.0",
         "-9.0",
         "-9",
         "54317.52966",
         "54317.52966",
         "2"
        ],
        [
         "4",
         "18190000012",
         "862.639365861857",
         "0.492323682777132",
         "5",
         "1",
         "1",
         "2",
         "0",
         "1",
         "3",
         "5",
         "1",
         "1",
         "1",
         "5",
         "3",
         "1",
         "5",
         "2",
         "3",
         "8",
         "1",
         "1",
         "1",
         "1",
         "0.0",
         "-9.0",
         "-9.0",
         "-9",
         "46602.5",
         "46602.5",
         "2"
        ]
       ],
       "shape": {
        "columns": 32,
        "rows": 5
       }
      },
      "text/html": [
       "<div>\n",
       "<style scoped>\n",
       "    .dataframe tbody tr th:only-of-type {\n",
       "        vertical-align: middle;\n",
       "    }\n",
       "\n",
       "    .dataframe tbody tr th {\n",
       "        vertical-align: top;\n",
       "    }\n",
       "\n",
       "    .dataframe thead th {\n",
       "        text-align: right;\n",
       "    }\n",
       "</style>\n",
       "<table border=\"1\" class=\"dataframe\">\n",
       "  <thead>\n",
       "    <tr style=\"text-align: right;\">\n",
       "      <th></th>\n",
       "      <th>serialanon</th>\n",
       "      <th>aagfh18</th>\n",
       "      <th>aagfh18new</th>\n",
       "      <th>gorehs</th>\n",
       "      <th>hhcomp1</th>\n",
       "      <th>hhtype6</th>\n",
       "      <th>hhsizex</th>\n",
       "      <th>ndepchild</th>\n",
       "      <th>noUnits1</th>\n",
       "      <th>agehrp4x</th>\n",
       "      <th>...</th>\n",
       "      <th>tenure2</th>\n",
       "      <th>tenure4</th>\n",
       "      <th>hhltsick</th>\n",
       "      <th>mortwkx</th>\n",
       "      <th>rentwkx</th>\n",
       "      <th>amthbenx</th>\n",
       "      <th>housbenx</th>\n",
       "      <th>JOINTINCx</th>\n",
       "      <th>HYEARGRx</th>\n",
       "      <th>hhvulx</th>\n",
       "    </tr>\n",
       "  </thead>\n",
       "  <tbody>\n",
       "    <tr>\n",
       "      <th>0</th>\n",
       "      <td>18190000002</td>\n",
       "      <td>810.653613</td>\n",
       "      <td>0.462654</td>\n",
       "      <td>4</td>\n",
       "      <td>7</td>\n",
       "      <td>5</td>\n",
       "      <td>1</td>\n",
       "      <td>0</td>\n",
       "      <td>1</td>\n",
       "      <td>3</td>\n",
       "      <td>...</td>\n",
       "      <td>4</td>\n",
       "      <td>2</td>\n",
       "      <td>2</td>\n",
       "      <td>-9.000000</td>\n",
       "      <td>86.769231</td>\n",
       "      <td>0.0</td>\n",
       "      <td>2</td>\n",
       "      <td>6760.00000</td>\n",
       "      <td>6760.00000</td>\n",
       "      <td>2</td>\n",
       "    </tr>\n",
       "    <tr>\n",
       "      <th>1</th>\n",
       "      <td>18190000005</td>\n",
       "      <td>2757.284121</td>\n",
       "      <td>1.573631</td>\n",
       "      <td>10</td>\n",
       "      <td>7</td>\n",
       "      <td>5</td>\n",
       "      <td>1</td>\n",
       "      <td>0</td>\n",
       "      <td>1</td>\n",
       "      <td>3</td>\n",
       "      <td>...</td>\n",
       "      <td>2</td>\n",
       "      <td>1</td>\n",
       "      <td>1</td>\n",
       "      <td>80.769231</td>\n",
       "      <td>-9.000000</td>\n",
       "      <td>-9.0</td>\n",
       "      <td>-9</td>\n",
       "      <td>41175.00000</td>\n",
       "      <td>41175.00000</td>\n",
       "      <td>2</td>\n",
       "    </tr>\n",
       "    <tr>\n",
       "      <th>2</th>\n",
       "      <td>18190000006</td>\n",
       "      <td>708.592029</td>\n",
       "      <td>0.404406</td>\n",
       "      <td>1</td>\n",
       "      <td>1</td>\n",
       "      <td>1</td>\n",
       "      <td>2</td>\n",
       "      <td>0</td>\n",
       "      <td>1</td>\n",
       "      <td>4</td>\n",
       "      <td>...</td>\n",
       "      <td>4</td>\n",
       "      <td>2</td>\n",
       "      <td>1</td>\n",
       "      <td>-9.000000</td>\n",
       "      <td>107.000000</td>\n",
       "      <td>0.0</td>\n",
       "      <td>2</td>\n",
       "      <td>13336.00000</td>\n",
       "      <td>13336.00000</td>\n",
       "      <td>2</td>\n",
       "    </tr>\n",
       "    <tr>\n",
       "      <th>3</th>\n",
       "      <td>18190000008</td>\n",
       "      <td>3458.741069</td>\n",
       "      <td>1.973965</td>\n",
       "      <td>10</td>\n",
       "      <td>1</td>\n",
       "      <td>2</td>\n",
       "      <td>4</td>\n",
       "      <td>1</td>\n",
       "      <td>1</td>\n",
       "      <td>3</td>\n",
       "      <td>...</td>\n",
       "      <td>2</td>\n",
       "      <td>1</td>\n",
       "      <td>2</td>\n",
       "      <td>570.623527</td>\n",
       "      <td>-9.000000</td>\n",
       "      <td>-9.0</td>\n",
       "      <td>-9</td>\n",
       "      <td>54317.52966</td>\n",
       "      <td>54317.52966</td>\n",
       "      <td>2</td>\n",
       "    </tr>\n",
       "    <tr>\n",
       "      <th>4</th>\n",
       "      <td>18190000012</td>\n",
       "      <td>862.639366</td>\n",
       "      <td>0.492324</td>\n",
       "      <td>5</td>\n",
       "      <td>1</td>\n",
       "      <td>1</td>\n",
       "      <td>2</td>\n",
       "      <td>0</td>\n",
       "      <td>1</td>\n",
       "      <td>3</td>\n",
       "      <td>...</td>\n",
       "      <td>1</td>\n",
       "      <td>1</td>\n",
       "      <td>1</td>\n",
       "      <td>0.000000</td>\n",
       "      <td>-9.000000</td>\n",
       "      <td>-9.0</td>\n",
       "      <td>-9</td>\n",
       "      <td>46602.50000</td>\n",
       "      <td>46602.50000</td>\n",
       "      <td>2</td>\n",
       "    </tr>\n",
       "  </tbody>\n",
       "</table>\n",
       "<p>5 rows × 32 columns</p>\n",
       "</div>"
      ],
      "text/plain": [
       "    serialanon      aagfh18  aagfh18new  gorehs  hhcomp1  hhtype6  hhsizex  \\\n",
       "0  18190000002   810.653613    0.462654       4        7        5        1   \n",
       "1  18190000005  2757.284121    1.573631      10        7        5        1   \n",
       "2  18190000006   708.592029    0.404406       1        1        1        2   \n",
       "3  18190000008  3458.741069    1.973965      10        1        2        4   \n",
       "4  18190000012   862.639366    0.492324       5        1        1        2   \n",
       "\n",
       "   ndepchild  noUnits1  agehrp4x  ...  tenure2  tenure4  hhltsick     mortwkx  \\\n",
       "0          0         1         3  ...        4        2         2   -9.000000   \n",
       "1          0         1         3  ...        2        1         1   80.769231   \n",
       "2          0         1         4  ...        4        2         1   -9.000000   \n",
       "3          1         1         3  ...        2        1         2  570.623527   \n",
       "4          0         1         3  ...        1        1         1    0.000000   \n",
       "\n",
       "      rentwkx  amthbenx  housbenx    JOINTINCx     HYEARGRx  hhvulx  \n",
       "0   86.769231       0.0         2   6760.00000   6760.00000       2  \n",
       "1   -9.000000      -9.0        -9  41175.00000  41175.00000       2  \n",
       "2  107.000000       0.0         2  13336.00000  13336.00000       2  \n",
       "3   -9.000000      -9.0        -9  54317.52966  54317.52966       2  \n",
       "4   -9.000000      -9.0        -9  46602.50000  46602.50000       2  \n",
       "\n",
       "[5 rows x 32 columns]"
      ]
     },
     "execution_count": 9,
     "metadata": {},
     "output_type": "execute_result"
    }
   ],
   "source": [
    "import pandas as pd\n",
    "ehs = pd.read_csv(r\"C:\\Users\\Oke\\Documents\\UCL MSc ESDA\\ESDA_Term 2\\BENV0092 Energy Data Analytics in the Built Environment\\Final Coursework\\datasets\\EHS_dataset_2018-2019\\UKDA-8717-tab\\tab\\ehs_1819_teaching.tab\",\n",
    "                  sep='\\t')\n",
    "ehs.head()"
   ]
  },
  {
   "cell_type": "code",
   "execution_count": 10,
   "id": "f93bffa1",
   "metadata": {},
   "outputs": [
    {
     "data": {
      "text/plain": [
       "Index(['serialanon', 'aagfh18', 'aagfh18new', 'gorehs', 'hhcomp1', 'hhtype6',\n",
       "       'hhsizex', 'ndepchild', 'noUnits1', 'agehrp4x', 'agehrp6x', 'emphrpx',\n",
       "       'ethhrp2x', 'sexhrp', 'bedstdx', 'nbedsx', 'bedrqx', 'nrooms1a',\n",
       "       'sharer', 'accomhh1', 'lenresb', 'ftbuyer', 'tenure2', 'tenure4',\n",
       "       'hhltsick', 'mortwkx', 'rentwkx', 'amthbenx', 'housbenx', 'JOINTINCx',\n",
       "       'HYEARGRx', 'hhvulx'],\n",
       "      dtype='object')"
      ]
     },
     "execution_count": 10,
     "metadata": {},
     "output_type": "execute_result"
    }
   ],
   "source": [
    "ehs.columns"
   ]
  },
  {
   "cell_type": "code",
   "execution_count": 11,
   "id": "943d97d8",
   "metadata": {},
   "outputs": [
    {
     "data": {
      "application/vnd.microsoft.datawrangler.viewer.v0+json": {
       "columns": [
        {
         "name": "index",
         "rawType": "int64",
         "type": "integer"
        },
        {
         "name": "gov_region",
         "rawType": "int64",
         "type": "integer"
        },
        {
         "name": "household_type",
         "rawType": "int64",
         "type": "integer"
        },
        {
         "name": "household_size",
         "rawType": "int64",
         "type": "integer"
        },
        {
         "name": "tenure_group",
         "rawType": "int64",
         "type": "integer"
        },
        {
         "name": "household_vulnerable",
         "rawType": "int64",
         "type": "integer"
        },
        {
         "name": "receives_housing_benefit",
         "rawType": "int64",
         "type": "integer"
        },
        {
         "name": "household_gross_income",
         "rawType": "float64",
         "type": "float"
        }
       ],
       "conversionMethod": "pd.DataFrame",
       "ref": "18319709-cf95-49fd-9e11-26179567a721",
       "rows": [
        [
         "0",
         "4",
         "5",
         "1",
         "4",
         "2",
         "2",
         "6760.0"
        ],
        [
         "1",
         "10",
         "5",
         "1",
         "2",
         "2",
         "-9",
         "41175.0"
        ],
        [
         "2",
         "1",
         "1",
         "2",
         "4",
         "2",
         "2",
         "13336.0"
        ],
        [
         "3",
         "10",
         "2",
         "4",
         "2",
         "2",
         "-9",
         "54317.52966"
        ],
        [
         "4",
         "5",
         "1",
         "2",
         "1",
         "2",
         "-9",
         "46602.5"
        ]
       ],
       "shape": {
        "columns": 7,
        "rows": 5
       }
      },
      "text/html": [
       "<div>\n",
       "<style scoped>\n",
       "    .dataframe tbody tr th:only-of-type {\n",
       "        vertical-align: middle;\n",
       "    }\n",
       "\n",
       "    .dataframe tbody tr th {\n",
       "        vertical-align: top;\n",
       "    }\n",
       "\n",
       "    .dataframe thead th {\n",
       "        text-align: right;\n",
       "    }\n",
       "</style>\n",
       "<table border=\"1\" class=\"dataframe\">\n",
       "  <thead>\n",
       "    <tr style=\"text-align: right;\">\n",
       "      <th></th>\n",
       "      <th>gov_region</th>\n",
       "      <th>household_type</th>\n",
       "      <th>household_size</th>\n",
       "      <th>tenure_group</th>\n",
       "      <th>household_vulnerable</th>\n",
       "      <th>receives_housing_benefit</th>\n",
       "      <th>household_gross_income</th>\n",
       "    </tr>\n",
       "  </thead>\n",
       "  <tbody>\n",
       "    <tr>\n",
       "      <th>0</th>\n",
       "      <td>4</td>\n",
       "      <td>5</td>\n",
       "      <td>1</td>\n",
       "      <td>4</td>\n",
       "      <td>2</td>\n",
       "      <td>2</td>\n",
       "      <td>6760.00000</td>\n",
       "    </tr>\n",
       "    <tr>\n",
       "      <th>1</th>\n",
       "      <td>10</td>\n",
       "      <td>5</td>\n",
       "      <td>1</td>\n",
       "      <td>2</td>\n",
       "      <td>2</td>\n",
       "      <td>-9</td>\n",
       "      <td>41175.00000</td>\n",
       "    </tr>\n",
       "    <tr>\n",
       "      <th>2</th>\n",
       "      <td>1</td>\n",
       "      <td>1</td>\n",
       "      <td>2</td>\n",
       "      <td>4</td>\n",
       "      <td>2</td>\n",
       "      <td>2</td>\n",
       "      <td>13336.00000</td>\n",
       "    </tr>\n",
       "    <tr>\n",
       "      <th>3</th>\n",
       "      <td>10</td>\n",
       "      <td>2</td>\n",
       "      <td>4</td>\n",
       "      <td>2</td>\n",
       "      <td>2</td>\n",
       "      <td>-9</td>\n",
       "      <td>54317.52966</td>\n",
       "    </tr>\n",
       "    <tr>\n",
       "      <th>4</th>\n",
       "      <td>5</td>\n",
       "      <td>1</td>\n",
       "      <td>2</td>\n",
       "      <td>1</td>\n",
       "      <td>2</td>\n",
       "      <td>-9</td>\n",
       "      <td>46602.50000</td>\n",
       "    </tr>\n",
       "  </tbody>\n",
       "</table>\n",
       "</div>"
      ],
      "text/plain": [
       "   gov_region  household_type  household_size  tenure_group  \\\n",
       "0           4               5               1             4   \n",
       "1          10               5               1             2   \n",
       "2           1               1               2             4   \n",
       "3          10               2               4             2   \n",
       "4           5               1               2             1   \n",
       "\n",
       "   household_vulnerable  receives_housing_benefit  household_gross_income  \n",
       "0                     2                         2              6760.00000  \n",
       "1                     2                        -9             41175.00000  \n",
       "2                     2                         2             13336.00000  \n",
       "3                     2                        -9             54317.52966  \n",
       "4                     2                        -9             46602.50000  "
      ]
     },
     "execution_count": 11,
     "metadata": {},
     "output_type": "execute_result"
    }
   ],
   "source": [
    "# The dataset contains a lot of columns, but we are only interested in a few of them.\n",
    "ehs_cols = [\n",
    "    'gorehs',          # Government office region (gor) EHS version\n",
    "    'hhtype6',           # Household type\n",
    "    'hhsizex',           # Number of persons in the household\n",
    "    'tenure2',           # Tenure group (or use 'tenure4' if preferred)\n",
    "    'hhvulx',            # Household vulnerable (means-tested/disability benefits)\n",
    "    'housbenx',         # Receives housing benefit\n",
    "    'HYEARGRx'          # Household gross annual income\n",
    "]\n",
    "\n",
    "# Select only the columns we are interested in and rename them for clarity\n",
    "ehs = ehs[ehs_cols]\n",
    "ehs = ehs.rename(columns={\n",
    "    'gorehs': 'gov_region',\n",
    "    'hhtype6': 'household_type',\n",
    "    'hhsizex': 'household_size',\n",
    "    'tenure2': 'tenure_group',\n",
    "    'hhvulx': 'household_vulnerable',\n",
    "    'housbenx': 'receives_housing_benefit',\n",
    "    'HYEARGRx': 'household_gross_income'\n",
    "})\n",
    "\n",
    "# Display the first few rows of the cleaned dataset\n",
    "ehs.head()"
   ]
  },
  {
   "cell_type": "code",
   "execution_count": 12,
   "id": "39e8b670",
   "metadata": {},
   "outputs": [
    {
     "name": "stderr",
     "output_type": "stream",
     "text": [
      "C:\\Users\\Oke\\AppData\\Local\\Temp\\ipykernel_21232\\2177963814.py:1: DtypeWarning: Columns (34,37) have mixed types. Specify dtype option on import or set low_memory=False.\n",
      "  epc = pd.read_csv(r\"C:\\Users\\Oke\\Documents\\UCL MSc ESDA\\ESDA_Term 2\\BENV0092 Energy Data Analytics in the Built Environment\\Final Coursework\\datasets\\epc_dataset\\domestic-E06000001-Hartlepool\\certificates.csv\",\n"
     ]
    },
    {
     "data": {
      "application/vnd.microsoft.datawrangler.viewer.v0+json": {
       "columns": [
        {
         "name": "index",
         "rawType": "int64",
         "type": "integer"
        },
        {
         "name": "LMK_KEY",
         "rawType": "object",
         "type": "string"
        },
        {
         "name": "ADDRESS1",
         "rawType": "object",
         "type": "string"
        },
        {
         "name": "ADDRESS2",
         "rawType": "object",
         "type": "unknown"
        },
        {
         "name": "ADDRESS3",
         "rawType": "object",
         "type": "unknown"
        },
        {
         "name": "POSTCODE",
         "rawType": "object",
         "type": "string"
        },
        {
         "name": "BUILDING_REFERENCE_NUMBER",
         "rawType": "int64",
         "type": "integer"
        },
        {
         "name": "CURRENT_ENERGY_RATING",
         "rawType": "object",
         "type": "string"
        },
        {
         "name": "POTENTIAL_ENERGY_RATING",
         "rawType": "object",
         "type": "string"
        },
        {
         "name": "CURRENT_ENERGY_EFFICIENCY",
         "rawType": "int64",
         "type": "integer"
        },
        {
         "name": "POTENTIAL_ENERGY_EFFICIENCY",
         "rawType": "int64",
         "type": "integer"
        },
        {
         "name": "PROPERTY_TYPE",
         "rawType": "object",
         "type": "string"
        },
        {
         "name": "BUILT_FORM",
         "rawType": "object",
         "type": "string"
        },
        {
         "name": "INSPECTION_DATE",
         "rawType": "object",
         "type": "string"
        },
        {
         "name": "LOCAL_AUTHORITY",
         "rawType": "object",
         "type": "string"
        },
        {
         "name": "CONSTITUENCY",
         "rawType": "object",
         "type": "string"
        },
        {
         "name": "COUNTY",
         "rawType": "float64",
         "type": "float"
        },
        {
         "name": "LODGEMENT_DATE",
         "rawType": "object",
         "type": "string"
        },
        {
         "name": "TRANSACTION_TYPE",
         "rawType": "object",
         "type": "string"
        },
        {
         "name": "ENVIRONMENT_IMPACT_CURRENT",
         "rawType": "int64",
         "type": "integer"
        },
        {
         "name": "ENVIRONMENT_IMPACT_POTENTIAL",
         "rawType": "int64",
         "type": "integer"
        },
        {
         "name": "ENERGY_CONSUMPTION_CURRENT",
         "rawType": "int64",
         "type": "integer"
        },
        {
         "name": "ENERGY_CONSUMPTION_POTENTIAL",
         "rawType": "float64",
         "type": "float"
        },
        {
         "name": "CO2_EMISSIONS_CURRENT",
         "rawType": "float64",
         "type": "float"
        },
        {
         "name": "CO2_EMISS_CURR_PER_FLOOR_AREA",
         "rawType": "int64",
         "type": "integer"
        },
        {
         "name": "CO2_EMISSIONS_POTENTIAL",
         "rawType": "float64",
         "type": "float"
        },
        {
         "name": "LIGHTING_COST_CURRENT",
         "rawType": "float64",
         "type": "float"
        },
        {
         "name": "LIGHTING_COST_POTENTIAL",
         "rawType": "float64",
         "type": "float"
        },
        {
         "name": "HEATING_COST_CURRENT",
         "rawType": "float64",
         "type": "float"
        },
        {
         "name": "HEATING_COST_POTENTIAL",
         "rawType": "float64",
         "type": "float"
        },
        {
         "name": "HOT_WATER_COST_CURRENT",
         "rawType": "float64",
         "type": "float"
        },
        {
         "name": "HOT_WATER_COST_POTENTIAL",
         "rawType": "float64",
         "type": "float"
        },
        {
         "name": "TOTAL_FLOOR_AREA",
         "rawType": "float64",
         "type": "float"
        },
        {
         "name": "ENERGY_TARIFF",
         "rawType": "object",
         "type": "string"
        },
        {
         "name": "MAINS_GAS_FLAG",
         "rawType": "object",
         "type": "string"
        },
        {
         "name": "FLOOR_LEVEL",
         "rawType": "object",
         "type": "string"
        },
        {
         "name": "FLAT_TOP_STOREY",
         "rawType": "object",
         "type": "unknown"
        },
        {
         "name": "FLAT_STOREY_COUNT",
         "rawType": "float64",
         "type": "float"
        },
        {
         "name": "MAIN_HEATING_CONTROLS",
         "rawType": "object",
         "type": "unknown"
        },
        {
         "name": "MULTI_GLAZE_PROPORTION",
         "rawType": "float64",
         "type": "float"
        },
        {
         "name": "GLAZED_TYPE",
         "rawType": "object",
         "type": "string"
        },
        {
         "name": "GLAZED_AREA",
         "rawType": "object",
         "type": "string"
        },
        {
         "name": "EXTENSION_COUNT",
         "rawType": "float64",
         "type": "float"
        },
        {
         "name": "NUMBER_HABITABLE_ROOMS",
         "rawType": "float64",
         "type": "float"
        },
        {
         "name": "NUMBER_HEATED_ROOMS",
         "rawType": "float64",
         "type": "float"
        },
        {
         "name": "LOW_ENERGY_LIGHTING",
         "rawType": "float64",
         "type": "float"
        },
        {
         "name": "NUMBER_OPEN_FIREPLACES",
         "rawType": "float64",
         "type": "float"
        },
        {
         "name": "HOTWATER_DESCRIPTION",
         "rawType": "object",
         "type": "string"
        },
        {
         "name": "HOT_WATER_ENERGY_EFF",
         "rawType": "object",
         "type": "string"
        },
        {
         "name": "HOT_WATER_ENV_EFF",
         "rawType": "object",
         "type": "string"
        },
        {
         "name": "FLOOR_DESCRIPTION",
         "rawType": "object",
         "type": "string"
        },
        {
         "name": "FLOOR_ENERGY_EFF",
         "rawType": "object",
         "type": "unknown"
        },
        {
         "name": "FLOOR_ENV_EFF",
         "rawType": "object",
         "type": "unknown"
        },
        {
         "name": "WINDOWS_DESCRIPTION",
         "rawType": "object",
         "type": "string"
        },
        {
         "name": "WINDOWS_ENERGY_EFF",
         "rawType": "object",
         "type": "string"
        },
        {
         "name": "WINDOWS_ENV_EFF",
         "rawType": "object",
         "type": "string"
        },
        {
         "name": "WALLS_DESCRIPTION",
         "rawType": "object",
         "type": "string"
        },
        {
         "name": "WALLS_ENERGY_EFF",
         "rawType": "object",
         "type": "string"
        },
        {
         "name": "WALLS_ENV_EFF",
         "rawType": "object",
         "type": "string"
        },
        {
         "name": "SECONDHEAT_DESCRIPTION",
         "rawType": "object",
         "type": "string"
        },
        {
         "name": "SHEATING_ENERGY_EFF",
         "rawType": "float64",
         "type": "float"
        },
        {
         "name": "SHEATING_ENV_EFF",
         "rawType": "float64",
         "type": "float"
        },
        {
         "name": "ROOF_DESCRIPTION",
         "rawType": "object",
         "type": "string"
        },
        {
         "name": "ROOF_ENERGY_EFF",
         "rawType": "object",
         "type": "string"
        },
        {
         "name": "ROOF_ENV_EFF",
         "rawType": "object",
         "type": "string"
        },
        {
         "name": "MAINHEAT_DESCRIPTION",
         "rawType": "object",
         "type": "string"
        },
        {
         "name": "MAINHEAT_ENERGY_EFF",
         "rawType": "object",
         "type": "string"
        },
        {
         "name": "MAINHEAT_ENV_EFF",
         "rawType": "object",
         "type": "string"
        },
        {
         "name": "MAINHEATCONT_DESCRIPTION",
         "rawType": "object",
         "type": "string"
        },
        {
         "name": "MAINHEATC_ENERGY_EFF",
         "rawType": "object",
         "type": "string"
        },
        {
         "name": "MAINHEATC_ENV_EFF",
         "rawType": "object",
         "type": "string"
        },
        {
         "name": "LIGHTING_DESCRIPTION",
         "rawType": "object",
         "type": "string"
        },
        {
         "name": "LIGHTING_ENERGY_EFF",
         "rawType": "object",
         "type": "string"
        },
        {
         "name": "LIGHTING_ENV_EFF",
         "rawType": "object",
         "type": "string"
        },
        {
         "name": "MAIN_FUEL",
         "rawType": "object",
         "type": "string"
        },
        {
         "name": "WIND_TURBINE_COUNT",
         "rawType": "float64",
         "type": "float"
        },
        {
         "name": "HEAT_LOSS_CORRIDOR",
         "rawType": "object",
         "type": "string"
        },
        {
         "name": "UNHEATED_CORRIDOR_LENGTH",
         "rawType": "float64",
         "type": "float"
        },
        {
         "name": "FLOOR_HEIGHT",
         "rawType": "float64",
         "type": "float"
        },
        {
         "name": "PHOTO_SUPPLY",
         "rawType": "float64",
         "type": "float"
        },
        {
         "name": "SOLAR_WATER_HEATING_FLAG",
         "rawType": "object",
         "type": "string"
        },
        {
         "name": "MECHANICAL_VENTILATION",
         "rawType": "object",
         "type": "string"
        },
        {
         "name": "ADDRESS",
         "rawType": "object",
         "type": "string"
        },
        {
         "name": "LOCAL_AUTHORITY_LABEL",
         "rawType": "object",
         "type": "string"
        },
        {
         "name": "CONSTITUENCY_LABEL",
         "rawType": "object",
         "type": "string"
        },
        {
         "name": "POSTTOWN",
         "rawType": "object",
         "type": "string"
        },
        {
         "name": "CONSTRUCTION_AGE_BAND",
         "rawType": "object",
         "type": "string"
        },
        {
         "name": "LODGEMENT_DATETIME",
         "rawType": "object",
         "type": "string"
        },
        {
         "name": "TENURE",
         "rawType": "object",
         "type": "string"
        },
        {
         "name": "FIXED_LIGHTING_OUTLETS_COUNT",
         "rawType": "float64",
         "type": "float"
        },
        {
         "name": "LOW_ENERGY_FIXED_LIGHT_COUNT",
         "rawType": "float64",
         "type": "float"
        },
        {
         "name": "UPRN",
         "rawType": "float64",
         "type": "float"
        },
        {
         "name": "UPRN_SOURCE",
         "rawType": "object",
         "type": "string"
        },
        {
         "name": "REPORT_TYPE",
         "rawType": "int64",
         "type": "integer"
        }
       ],
       "conversionMethod": "pd.DataFrame",
       "ref": "3f59e159-ae31-4b8c-b5d2-0150133d6ad5",
       "rows": [
        [
         "0",
         "0003352408dad177e827f77c62ed7172f2f16336c44dcdedbc315d08755600a2",
         "21 HERIOT GRANGE",
         "HARTLEPOOL",
         null,
         "TS25 3JH",
         "10000150044",
         "E",
         "B",
         "53",
         "83",
         "Flat",
         "End-Terrace",
         "2021-08-03",
         "E06000001",
         "E14000733",
         null,
         "2021-08-06",
         "rental",
         "48",
         "73",
         "529",
         "269.0",
         "3.2",
         "89",
         "1.6",
         "35.0",
         "35.0",
         "119.0",
         "107.0",
         "583.0",
         "110.0",
         "36.0",
         "dual",
         "N",
         "01",
         "Y",
         null,
         null,
         "100.0",
         "double glazing, unknown install date",
         "Normal",
         "0.0",
         "2.0",
         "2.0",
         "80.0",
         "0.0",
         "Electric immersion, off-peak",
         "Very Poor",
         "Poor",
         "(another dwelling below)",
         null,
         null,
         "Fully double glazed",
         "Average",
         "Average",
         "Cavity wall, as built, no insulation (assumed)",
         "Poor",
         "Poor",
         "Portable electric heaters (assumed)",
         null,
         null,
         "Pitched, 250 mm loft insulation",
         "Good",
         "Good",
         "Electric storage heaters",
         "Average",
         "Very Poor",
         "Manual charge control",
         "Poor",
         "Poor",
         "Low energy lighting in 80% of fixed outlets",
         "Very Good",
         "Very Good",
         "electricity (not community)",
         "0.0",
         "heated corridor",
         null,
         "2.4",
         "0.0",
         "N",
         "natural",
         "21 HERIOT GRANGE, HARTLEPOOL",
         "Hartlepool",
         "Hartlepool",
         "HARTLEPOOL",
         "England and Wales: 1983-1990",
         "2021-08-06 07:35:31",
         "Rented (social)",
         "5.0",
         null,
         "100110786110.0",
         "Energy Assessor",
         "100"
        ],
        [
         "1",
         "1514938939222017012914223649268943",
         "9, Sea View Terrace",
         null,
         null,
         "TS24 0ET",
         "4423379478",
         "D",
         "B",
         "66",
         "82",
         "House",
         "Mid-Terrace",
         "2017-01-26",
         "E06000001",
         "E14000733",
         null,
         "2017-01-29",
         "marketed sale",
         "65",
         "81",
         "229",
         "124.0",
         "3.5",
         "40",
         "1.9",
         "97.0",
         "58.0",
         "666.0",
         "596.0",
         "107.0",
         "72.0",
         "88.0",
         "Single",
         "Y",
         "NODATA!",
         null,
         null,
         "2104.0",
         "100.0",
         "double glazing, unknown install date",
         "Normal",
         "1.0",
         "5.0",
         "5.0",
         "33.0",
         "0.0",
         "From main system",
         "Good",
         "Good",
         "Solid, no insulation (assumed)",
         "NO DATA!",
         null,
         "Fully double glazed",
         "Average",
         "Average",
         "Cavity wall, filled cavity",
         "Good",
         "Good",
         "Room heaters, electric",
         null,
         null,
         "Pitched, 300 mm loft insulation",
         "Very Good",
         "Very Good",
         "Boiler and radiators, mains gas",
         "Good",
         "Good",
         "Programmer and room thermostat",
         "Average",
         "Average",
         "Low energy lighting in 33% of fixed outlets",
         "Average",
         "Average",
         "mains gas (not community)",
         "0.0",
         "NO DATA!",
         null,
         null,
         null,
         "N",
         "natural",
         "9, Sea View Terrace",
         "Hartlepool",
         "Hartlepool",
         "HARTLEPOOL",
         "England and Wales: 1950-1966",
         "2017-01-29 14:22:36",
         "owner-occupied",
         null,
         null,
         "100110027519.0",
         "Address Matched",
         "100"
        ]
       ],
       "shape": {
        "columns": 93,
        "rows": 2
       }
      },
      "text/html": [
       "<div>\n",
       "<style scoped>\n",
       "    .dataframe tbody tr th:only-of-type {\n",
       "        vertical-align: middle;\n",
       "    }\n",
       "\n",
       "    .dataframe tbody tr th {\n",
       "        vertical-align: top;\n",
       "    }\n",
       "\n",
       "    .dataframe thead th {\n",
       "        text-align: right;\n",
       "    }\n",
       "</style>\n",
       "<table border=\"1\" class=\"dataframe\">\n",
       "  <thead>\n",
       "    <tr style=\"text-align: right;\">\n",
       "      <th></th>\n",
       "      <th>LMK_KEY</th>\n",
       "      <th>ADDRESS1</th>\n",
       "      <th>ADDRESS2</th>\n",
       "      <th>ADDRESS3</th>\n",
       "      <th>POSTCODE</th>\n",
       "      <th>BUILDING_REFERENCE_NUMBER</th>\n",
       "      <th>CURRENT_ENERGY_RATING</th>\n",
       "      <th>POTENTIAL_ENERGY_RATING</th>\n",
       "      <th>CURRENT_ENERGY_EFFICIENCY</th>\n",
       "      <th>POTENTIAL_ENERGY_EFFICIENCY</th>\n",
       "      <th>...</th>\n",
       "      <th>CONSTITUENCY_LABEL</th>\n",
       "      <th>POSTTOWN</th>\n",
       "      <th>CONSTRUCTION_AGE_BAND</th>\n",
       "      <th>LODGEMENT_DATETIME</th>\n",
       "      <th>TENURE</th>\n",
       "      <th>FIXED_LIGHTING_OUTLETS_COUNT</th>\n",
       "      <th>LOW_ENERGY_FIXED_LIGHT_COUNT</th>\n",
       "      <th>UPRN</th>\n",
       "      <th>UPRN_SOURCE</th>\n",
       "      <th>REPORT_TYPE</th>\n",
       "    </tr>\n",
       "  </thead>\n",
       "  <tbody>\n",
       "    <tr>\n",
       "      <th>0</th>\n",
       "      <td>0003352408dad177e827f77c62ed7172f2f16336c44dcd...</td>\n",
       "      <td>21 HERIOT GRANGE</td>\n",
       "      <td>HARTLEPOOL</td>\n",
       "      <td>NaN</td>\n",
       "      <td>TS25 3JH</td>\n",
       "      <td>10000150044</td>\n",
       "      <td>E</td>\n",
       "      <td>B</td>\n",
       "      <td>53</td>\n",
       "      <td>83</td>\n",
       "      <td>...</td>\n",
       "      <td>Hartlepool</td>\n",
       "      <td>HARTLEPOOL</td>\n",
       "      <td>England and Wales: 1983-1990</td>\n",
       "      <td>2021-08-06 07:35:31</td>\n",
       "      <td>Rented (social)</td>\n",
       "      <td>5.0</td>\n",
       "      <td>NaN</td>\n",
       "      <td>1.001108e+11</td>\n",
       "      <td>Energy Assessor</td>\n",
       "      <td>100</td>\n",
       "    </tr>\n",
       "    <tr>\n",
       "      <th>1</th>\n",
       "      <td>1514938939222017012914223649268943</td>\n",
       "      <td>9, Sea View Terrace</td>\n",
       "      <td>NaN</td>\n",
       "      <td>NaN</td>\n",
       "      <td>TS24 0ET</td>\n",
       "      <td>4423379478</td>\n",
       "      <td>D</td>\n",
       "      <td>B</td>\n",
       "      <td>66</td>\n",
       "      <td>82</td>\n",
       "      <td>...</td>\n",
       "      <td>Hartlepool</td>\n",
       "      <td>HARTLEPOOL</td>\n",
       "      <td>England and Wales: 1950-1966</td>\n",
       "      <td>2017-01-29 14:22:36</td>\n",
       "      <td>owner-occupied</td>\n",
       "      <td>NaN</td>\n",
       "      <td>NaN</td>\n",
       "      <td>1.001100e+11</td>\n",
       "      <td>Address Matched</td>\n",
       "      <td>100</td>\n",
       "    </tr>\n",
       "  </tbody>\n",
       "</table>\n",
       "<p>2 rows × 93 columns</p>\n",
       "</div>"
      ],
      "text/plain": [
       "                                             LMK_KEY             ADDRESS1  \\\n",
       "0  0003352408dad177e827f77c62ed7172f2f16336c44dcd...     21 HERIOT GRANGE   \n",
       "1                 1514938939222017012914223649268943  9, Sea View Terrace   \n",
       "\n",
       "     ADDRESS2 ADDRESS3  POSTCODE  BUILDING_REFERENCE_NUMBER  \\\n",
       "0  HARTLEPOOL      NaN  TS25 3JH                10000150044   \n",
       "1         NaN      NaN  TS24 0ET                 4423379478   \n",
       "\n",
       "  CURRENT_ENERGY_RATING POTENTIAL_ENERGY_RATING  CURRENT_ENERGY_EFFICIENCY  \\\n",
       "0                     E                       B                         53   \n",
       "1                     D                       B                         66   \n",
       "\n",
       "   POTENTIAL_ENERGY_EFFICIENCY  ... CONSTITUENCY_LABEL    POSTTOWN  \\\n",
       "0                           83  ...         Hartlepool  HARTLEPOOL   \n",
       "1                           82  ...         Hartlepool  HARTLEPOOL   \n",
       "\n",
       "          CONSTRUCTION_AGE_BAND   LODGEMENT_DATETIME           TENURE  \\\n",
       "0  England and Wales: 1983-1990  2021-08-06 07:35:31  Rented (social)   \n",
       "1  England and Wales: 1950-1966  2017-01-29 14:22:36   owner-occupied   \n",
       "\n",
       "   FIXED_LIGHTING_OUTLETS_COUNT LOW_ENERGY_FIXED_LIGHT_COUNT          UPRN  \\\n",
       "0                           5.0                          NaN  1.001108e+11   \n",
       "1                           NaN                          NaN  1.001100e+11   \n",
       "\n",
       "       UPRN_SOURCE  REPORT_TYPE  \n",
       "0  Energy Assessor          100  \n",
       "1  Address Matched          100  \n",
       "\n",
       "[2 rows x 93 columns]"
      ]
     },
     "execution_count": 12,
     "metadata": {},
     "output_type": "execute_result"
    }
   ],
   "source": [
    "epc = pd.read_csv(r\"C:\\Users\\Oke\\Documents\\UCL MSc ESDA\\ESDA_Term 2\\BENV0092 Energy Data Analytics in the Built Environment\\Final Coursework\\datasets\\epc_dataset\\domestic-E06000001-Hartlepool\\certificates.csv\",\n",
    "                  sep=',')\n",
    "epc.head(2)"
   ]
  },
  {
   "cell_type": "code",
   "execution_count": 13,
   "id": "d40d27f4",
   "metadata": {},
   "outputs": [
    {
     "data": {
      "text/plain": [
       "Index(['LMK_KEY', 'ADDRESS1', 'ADDRESS2', 'ADDRESS3', 'POSTCODE',\n",
       "       'BUILDING_REFERENCE_NUMBER', 'CURRENT_ENERGY_RATING',\n",
       "       'POTENTIAL_ENERGY_RATING', 'CURRENT_ENERGY_EFFICIENCY',\n",
       "       'POTENTIAL_ENERGY_EFFICIENCY', 'PROPERTY_TYPE', 'BUILT_FORM',\n",
       "       'INSPECTION_DATE', 'LOCAL_AUTHORITY', 'CONSTITUENCY', 'COUNTY',\n",
       "       'LODGEMENT_DATE', 'TRANSACTION_TYPE', 'ENVIRONMENT_IMPACT_CURRENT',\n",
       "       'ENVIRONMENT_IMPACT_POTENTIAL', 'ENERGY_CONSUMPTION_CURRENT',\n",
       "       'ENERGY_CONSUMPTION_POTENTIAL', 'CO2_EMISSIONS_CURRENT',\n",
       "       'CO2_EMISS_CURR_PER_FLOOR_AREA', 'CO2_EMISSIONS_POTENTIAL',\n",
       "       'LIGHTING_COST_CURRENT', 'LIGHTING_COST_POTENTIAL',\n",
       "       'HEATING_COST_CURRENT', 'HEATING_COST_POTENTIAL',\n",
       "       'HOT_WATER_COST_CURRENT', 'HOT_WATER_COST_POTENTIAL',\n",
       "       'TOTAL_FLOOR_AREA', 'ENERGY_TARIFF', 'MAINS_GAS_FLAG', 'FLOOR_LEVEL',\n",
       "       'FLAT_TOP_STOREY', 'FLAT_STOREY_COUNT', 'MAIN_HEATING_CONTROLS',\n",
       "       'MULTI_GLAZE_PROPORTION', 'GLAZED_TYPE', 'GLAZED_AREA',\n",
       "       'EXTENSION_COUNT', 'NUMBER_HABITABLE_ROOMS', 'NUMBER_HEATED_ROOMS',\n",
       "       'LOW_ENERGY_LIGHTING', 'NUMBER_OPEN_FIREPLACES', 'HOTWATER_DESCRIPTION',\n",
       "       'HOT_WATER_ENERGY_EFF', 'HOT_WATER_ENV_EFF', 'FLOOR_DESCRIPTION',\n",
       "       'FLOOR_ENERGY_EFF', 'FLOOR_ENV_EFF', 'WINDOWS_DESCRIPTION',\n",
       "       'WINDOWS_ENERGY_EFF', 'WINDOWS_ENV_EFF', 'WALLS_DESCRIPTION',\n",
       "       'WALLS_ENERGY_EFF', 'WALLS_ENV_EFF', 'SECONDHEAT_DESCRIPTION',\n",
       "       'SHEATING_ENERGY_EFF', 'SHEATING_ENV_EFF', 'ROOF_DESCRIPTION',\n",
       "       'ROOF_ENERGY_EFF', 'ROOF_ENV_EFF', 'MAINHEAT_DESCRIPTION',\n",
       "       'MAINHEAT_ENERGY_EFF', 'MAINHEAT_ENV_EFF', 'MAINHEATCONT_DESCRIPTION',\n",
       "       'MAINHEATC_ENERGY_EFF', 'MAINHEATC_ENV_EFF', 'LIGHTING_DESCRIPTION',\n",
       "       'LIGHTING_ENERGY_EFF', 'LIGHTING_ENV_EFF', 'MAIN_FUEL',\n",
       "       'WIND_TURBINE_COUNT', 'HEAT_LOSS_CORRIDOR', 'UNHEATED_CORRIDOR_LENGTH',\n",
       "       'FLOOR_HEIGHT', 'PHOTO_SUPPLY', 'SOLAR_WATER_HEATING_FLAG',\n",
       "       'MECHANICAL_VENTILATION', 'ADDRESS', 'LOCAL_AUTHORITY_LABEL',\n",
       "       'CONSTITUENCY_LABEL', 'POSTTOWN', 'CONSTRUCTION_AGE_BAND',\n",
       "       'LODGEMENT_DATETIME', 'TENURE', 'FIXED_LIGHTING_OUTLETS_COUNT',\n",
       "       'LOW_ENERGY_FIXED_LIGHT_COUNT', 'UPRN', 'UPRN_SOURCE', 'REPORT_TYPE'],\n",
       "      dtype='object')"
      ]
     },
     "execution_count": 13,
     "metadata": {},
     "output_type": "execute_result"
    }
   ],
   "source": [
    "epc.columns"
   ]
  },
  {
   "cell_type": "code",
   "execution_count": 14,
   "id": "d655b353",
   "metadata": {},
   "outputs": [
    {
     "data": {
      "application/vnd.microsoft.datawrangler.viewer.v0+json": {
       "columns": [
        {
         "name": "index",
         "rawType": "int64",
         "type": "integer"
        },
        {
         "name": "LMK_KEY",
         "rawType": "object",
         "type": "string"
        },
        {
         "name": "UPRN",
         "rawType": "float64",
         "type": "float"
        },
        {
         "name": "POSTCODE",
         "rawType": "object",
         "type": "string"
        },
        {
         "name": "PROPERTY_TYPE",
         "rawType": "object",
         "type": "string"
        },
        {
         "name": "BUILT_FORM",
         "rawType": "object",
         "type": "string"
        },
        {
         "name": "CURRENT_ENERGY_RATING",
         "rawType": "object",
         "type": "string"
        },
        {
         "name": "POTENTIAL_ENERGY_RATING",
         "rawType": "object",
         "type": "string"
        },
        {
         "name": "HEATING_COST_CURRENT",
         "rawType": "float64",
         "type": "float"
        },
        {
         "name": "HEATING_COST_POTENTIAL",
         "rawType": "float64",
         "type": "float"
        },
        {
         "name": "CO2_EMISSIONS_CURRENT",
         "rawType": "float64",
         "type": "float"
        },
        {
         "name": "CO2_EMISSIONS_POTENTIAL",
         "rawType": "float64",
         "type": "float"
        },
        {
         "name": "TOTAL_FLOOR_AREA",
         "rawType": "float64",
         "type": "float"
        },
        {
         "name": "MAINHEAT_DESCRIPTION",
         "rawType": "object",
         "type": "string"
        },
        {
         "name": "MAIN_FUEL",
         "rawType": "object",
         "type": "string"
        },
        {
         "name": "CONSTRUCTION_AGE_BAND",
         "rawType": "object",
         "type": "string"
        },
        {
         "name": "LOCAL_AUTHORITY",
         "rawType": "object",
         "type": "string"
        },
        {
         "name": "COUNTY",
         "rawType": "float64",
         "type": "float"
        }
       ],
       "conversionMethod": "pd.DataFrame",
       "ref": "51fbf41a-df54-4c54-96ee-f55c2298a99c",
       "rows": [
        [
         "0",
         "0003352408dad177e827f77c62ed7172f2f16336c44dcdedbc315d08755600a2",
         "100110786110.0",
         "TS25 3JH",
         "Flat",
         "End-Terrace",
         "E",
         "B",
         "119.0",
         "107.0",
         "3.2",
         "1.6",
         "36.0",
         "Electric storage heaters",
         "electricity (not community)",
         "England and Wales: 1983-1990",
         "E06000001",
         null
        ],
        [
         "1",
         "1514938939222017012914223649268943",
         "100110027519.0",
         "TS24 0ET",
         "House",
         "Mid-Terrace",
         "D",
         "B",
         "666.0",
         "596.0",
         "3.5",
         "1.9",
         "88.0",
         "Boiler and radiators, mains gas",
         "mains gas (not community)",
         "England and Wales: 1950-1966",
         "E06000001",
         null
        ]
       ],
       "shape": {
        "columns": 17,
        "rows": 2
       }
      },
      "text/html": [
       "<div>\n",
       "<style scoped>\n",
       "    .dataframe tbody tr th:only-of-type {\n",
       "        vertical-align: middle;\n",
       "    }\n",
       "\n",
       "    .dataframe tbody tr th {\n",
       "        vertical-align: top;\n",
       "    }\n",
       "\n",
       "    .dataframe thead th {\n",
       "        text-align: right;\n",
       "    }\n",
       "</style>\n",
       "<table border=\"1\" class=\"dataframe\">\n",
       "  <thead>\n",
       "    <tr style=\"text-align: right;\">\n",
       "      <th></th>\n",
       "      <th>LMK_KEY</th>\n",
       "      <th>UPRN</th>\n",
       "      <th>POSTCODE</th>\n",
       "      <th>PROPERTY_TYPE</th>\n",
       "      <th>BUILT_FORM</th>\n",
       "      <th>CURRENT_ENERGY_RATING</th>\n",
       "      <th>POTENTIAL_ENERGY_RATING</th>\n",
       "      <th>HEATING_COST_CURRENT</th>\n",
       "      <th>HEATING_COST_POTENTIAL</th>\n",
       "      <th>CO2_EMISSIONS_CURRENT</th>\n",
       "      <th>CO2_EMISSIONS_POTENTIAL</th>\n",
       "      <th>TOTAL_FLOOR_AREA</th>\n",
       "      <th>MAINHEAT_DESCRIPTION</th>\n",
       "      <th>MAIN_FUEL</th>\n",
       "      <th>CONSTRUCTION_AGE_BAND</th>\n",
       "      <th>LOCAL_AUTHORITY</th>\n",
       "      <th>COUNTY</th>\n",
       "    </tr>\n",
       "  </thead>\n",
       "  <tbody>\n",
       "    <tr>\n",
       "      <th>0</th>\n",
       "      <td>0003352408dad177e827f77c62ed7172f2f16336c44dcd...</td>\n",
       "      <td>1.001108e+11</td>\n",
       "      <td>TS25 3JH</td>\n",
       "      <td>Flat</td>\n",
       "      <td>End-Terrace</td>\n",
       "      <td>E</td>\n",
       "      <td>B</td>\n",
       "      <td>119.0</td>\n",
       "      <td>107.0</td>\n",
       "      <td>3.2</td>\n",
       "      <td>1.6</td>\n",
       "      <td>36.0</td>\n",
       "      <td>Electric storage heaters</td>\n",
       "      <td>electricity (not community)</td>\n",
       "      <td>England and Wales: 1983-1990</td>\n",
       "      <td>E06000001</td>\n",
       "      <td>NaN</td>\n",
       "    </tr>\n",
       "    <tr>\n",
       "      <th>1</th>\n",
       "      <td>1514938939222017012914223649268943</td>\n",
       "      <td>1.001100e+11</td>\n",
       "      <td>TS24 0ET</td>\n",
       "      <td>House</td>\n",
       "      <td>Mid-Terrace</td>\n",
       "      <td>D</td>\n",
       "      <td>B</td>\n",
       "      <td>666.0</td>\n",
       "      <td>596.0</td>\n",
       "      <td>3.5</td>\n",
       "      <td>1.9</td>\n",
       "      <td>88.0</td>\n",
       "      <td>Boiler and radiators, mains gas</td>\n",
       "      <td>mains gas (not community)</td>\n",
       "      <td>England and Wales: 1950-1966</td>\n",
       "      <td>E06000001</td>\n",
       "      <td>NaN</td>\n",
       "    </tr>\n",
       "  </tbody>\n",
       "</table>\n",
       "</div>"
      ],
      "text/plain": [
       "                                             LMK_KEY          UPRN  POSTCODE  \\\n",
       "0  0003352408dad177e827f77c62ed7172f2f16336c44dcd...  1.001108e+11  TS25 3JH   \n",
       "1                 1514938939222017012914223649268943  1.001100e+11  TS24 0ET   \n",
       "\n",
       "  PROPERTY_TYPE   BUILT_FORM CURRENT_ENERGY_RATING POTENTIAL_ENERGY_RATING  \\\n",
       "0          Flat  End-Terrace                     E                       B   \n",
       "1         House  Mid-Terrace                     D                       B   \n",
       "\n",
       "   HEATING_COST_CURRENT  HEATING_COST_POTENTIAL  CO2_EMISSIONS_CURRENT  \\\n",
       "0                 119.0                   107.0                    3.2   \n",
       "1                 666.0                   596.0                    3.5   \n",
       "\n",
       "   CO2_EMISSIONS_POTENTIAL  TOTAL_FLOOR_AREA             MAINHEAT_DESCRIPTION  \\\n",
       "0                      1.6              36.0         Electric storage heaters   \n",
       "1                      1.9              88.0  Boiler and radiators, mains gas   \n",
       "\n",
       "                     MAIN_FUEL         CONSTRUCTION_AGE_BAND LOCAL_AUTHORITY  \\\n",
       "0  electricity (not community)  England and Wales: 1983-1990       E06000001   \n",
       "1    mains gas (not community)  England and Wales: 1950-1966       E06000001   \n",
       "\n",
       "   COUNTY  \n",
       "0     NaN  \n",
       "1     NaN  "
      ]
     },
     "execution_count": 14,
     "metadata": {},
     "output_type": "execute_result"
    }
   ],
   "source": [
    "# Retain only the columns we are interested in\n",
    "epc_cols = [\n",
    "    'LMK_KEY',\n",
    "    'UPRN',\n",
    "    'POSTCODE',\n",
    "    'PROPERTY_TYPE',\n",
    "    'BUILT_FORM',\n",
    "    'CURRENT_ENERGY_RATING',\n",
    "    'POTENTIAL_ENERGY_RATING',\n",
    "    'HEATING_COST_CURRENT',\n",
    "    'HEATING_COST_POTENTIAL',\n",
    "    'CO2_EMISSIONS_CURRENT',\n",
    "    'CO2_EMISSIONS_POTENTIAL',\n",
    "    'TOTAL_FLOOR_AREA',\n",
    "    'MAINHEAT_DESCRIPTION',\n",
    "    'MAIN_FUEL',\n",
    "    'CONSTRUCTION_AGE_BAND',\n",
    "    'LOCAL_AUTHORITY',\n",
    "    'COUNTY'\n",
    "]\n",
    "\n",
    "epc = epc[epc_cols]\n",
    "epc.head(2)"
   ]
  },
  {
   "cell_type": "code",
   "execution_count": 15,
   "id": "3164bfc6",
   "metadata": {},
   "outputs": [
    {
     "name": "stderr",
     "output_type": "stream",
     "text": [
      "C:\\Users\\Oke\\AppData\\Local\\Temp\\ipykernel_21232\\1455980668.py:3: DtypeWarning: Columns (18,31,40,45,50,51,52) have mixed types. Specify dtype option on import or set low_memory=False.\n",
      "  ons_postcode = pd.read_csv(r\"C:\\Users\\Oke\\Downloads\\ONSPD_FEB_2024_UK\\Data\\ONSPD_FEB_2024_UK.csv\", sep=',')\n"
     ]
    },
    {
     "data": {
      "application/vnd.microsoft.datawrangler.viewer.v0+json": {
       "columns": [
        {
         "name": "index",
         "rawType": "int64",
         "type": "integer"
        },
        {
         "name": "pcd",
         "rawType": "object",
         "type": "string"
        },
        {
         "name": "pcd2",
         "rawType": "object",
         "type": "string"
        },
        {
         "name": "pcds",
         "rawType": "object",
         "type": "string"
        },
        {
         "name": "dointr",
         "rawType": "int64",
         "type": "integer"
        },
        {
         "name": "doterm",
         "rawType": "float64",
         "type": "float"
        },
        {
         "name": "oscty",
         "rawType": "object",
         "type": "string"
        },
        {
         "name": "ced",
         "rawType": "object",
         "type": "string"
        },
        {
         "name": "oslaua",
         "rawType": "object",
         "type": "string"
        },
        {
         "name": "osward",
         "rawType": "object",
         "type": "string"
        },
        {
         "name": "parish",
         "rawType": "object",
         "type": "string"
        },
        {
         "name": "usertype",
         "rawType": "int64",
         "type": "integer"
        },
        {
         "name": "oseast1m",
         "rawType": "float64",
         "type": "float"
        },
        {
         "name": "osnrth1m",
         "rawType": "float64",
         "type": "float"
        },
        {
         "name": "osgrdind",
         "rawType": "int64",
         "type": "integer"
        },
        {
         "name": "oshlthau",
         "rawType": "object",
         "type": "string"
        },
        {
         "name": "nhser",
         "rawType": "object",
         "type": "string"
        },
        {
         "name": "ctry",
         "rawType": "object",
         "type": "string"
        },
        {
         "name": "rgn",
         "rawType": "object",
         "type": "string"
        },
        {
         "name": "streg",
         "rawType": "object",
         "type": "unknown"
        },
        {
         "name": "pcon",
         "rawType": "object",
         "type": "string"
        },
        {
         "name": "eer",
         "rawType": "object",
         "type": "string"
        },
        {
         "name": "teclec",
         "rawType": "object",
         "type": "string"
        },
        {
         "name": "ttwa",
         "rawType": "object",
         "type": "string"
        },
        {
         "name": "pct",
         "rawType": "object",
         "type": "string"
        },
        {
         "name": "itl",
         "rawType": "object",
         "type": "string"
        },
        {
         "name": "statsward",
         "rawType": "object",
         "type": "string"
        },
        {
         "name": "oa01",
         "rawType": "object",
         "type": "string"
        },
        {
         "name": "casward",
         "rawType": "object",
         "type": "string"
        },
        {
         "name": "npark",
         "rawType": "object",
         "type": "string"
        },
        {
         "name": "lsoa01",
         "rawType": "object",
         "type": "string"
        },
        {
         "name": "msoa01",
         "rawType": "object",
         "type": "string"
        },
        {
         "name": "ur01ind",
         "rawType": "object",
         "type": "string"
        },
        {
         "name": "oac01",
         "rawType": "object",
         "type": "string"
        },
        {
         "name": "oa11",
         "rawType": "object",
         "type": "string"
        },
        {
         "name": "lsoa11",
         "rawType": "object",
         "type": "string"
        },
        {
         "name": "msoa11",
         "rawType": "object",
         "type": "string"
        },
        {
         "name": "wz11",
         "rawType": "object",
         "type": "string"
        },
        {
         "name": "sicbl",
         "rawType": "object",
         "type": "string"
        },
        {
         "name": "bua11",
         "rawType": "object",
         "type": "string"
        },
        {
         "name": "buasd11",
         "rawType": "object",
         "type": "string"
        },
        {
         "name": "ru11ind",
         "rawType": "object",
         "type": "unknown"
        },
        {
         "name": "oac11",
         "rawType": "object",
         "type": "string"
        },
        {
         "name": "lat",
         "rawType": "float64",
         "type": "float"
        },
        {
         "name": "long",
         "rawType": "float64",
         "type": "float"
        },
        {
         "name": "lep1",
         "rawType": "object",
         "type": "string"
        },
        {
         "name": "lep2",
         "rawType": "object",
         "type": "unknown"
        },
        {
         "name": "pfa",
         "rawType": "object",
         "type": "string"
        },
        {
         "name": "imd",
         "rawType": "int64",
         "type": "integer"
        },
        {
         "name": "calncv",
         "rawType": "object",
         "type": "string"
        },
        {
         "name": "icb",
         "rawType": "object",
         "type": "string"
        },
        {
         "name": "oa21",
         "rawType": "object",
         "type": "unknown"
        },
        {
         "name": "lsoa21",
         "rawType": "object",
         "type": "unknown"
        },
        {
         "name": "msoa21",
         "rawType": "object",
         "type": "unknown"
        }
       ],
       "conversionMethod": "pd.DataFrame",
       "ref": "bc605069-6d98-4593-99c3-891de1ec312c",
       "rows": [
        [
         "0",
         "AB1 0AA",
         "AB1  0AA",
         "AB1 0AA",
         "198001",
         "199606.0",
         "S99999999",
         "S99999999",
         "S12000033",
         "S13002843",
         "S99999999",
         "0",
         "385386.0",
         "801193.0",
         "1",
         "S08000020",
         "S99999999",
         "S92000003",
         "S99999999",
         "0",
         "S14000002",
         "S15000001",
         "S09000001",
         "S22000047",
         "S03000012",
         "S30000026",
         "99ZZ00",
         "S00001364",
         "01C30",
         "S99999999",
         "S01000011",
         "S02000007",
         "6",
         "3C2",
         "S00090303",
         "S01006514",
         "S02001237",
         "S34002990",
         "S03000012",
         "S99999999",
         "S99999999",
         "3.0",
         "1C3",
         "57.101474",
         "-2.242851",
         "S99999999",
         null,
         "S23000009",
         "6715",
         "S99999999",
         "S99999999",
         null,
         null,
         null
        ],
        [
         "1",
         "AB1 0AB",
         "AB1  0AB",
         "AB1 0AB",
         "198001",
         "199606.0",
         "S99999999",
         "S99999999",
         "S12000033",
         "S13002843",
         "S99999999",
         "0",
         "385177.0",
         "801314.0",
         "1",
         "S08000020",
         "S99999999",
         "S92000003",
         "S99999999",
         "0",
         "S14000002",
         "S15000001",
         "S09000001",
         "S22000047",
         "S03000012",
         "S30000026",
         "99ZZ00",
         "S00001270",
         "01C31",
         "S99999999",
         "S01000011",
         "S02000007",
         "6",
         "4B3",
         "S00090303",
         "S01006514",
         "S02001237",
         "S34002990",
         "S03000012",
         "S99999999",
         "S99999999",
         "3.0",
         "1C3",
         "57.102554",
         "-2.246308",
         "S99999999",
         null,
         "S23000009",
         "6715",
         "S99999999",
         "S99999999",
         null,
         null,
         null
        ]
       ],
       "shape": {
        "columns": 53,
        "rows": 2
       }
      },
      "text/html": [
       "<div>\n",
       "<style scoped>\n",
       "    .dataframe tbody tr th:only-of-type {\n",
       "        vertical-align: middle;\n",
       "    }\n",
       "\n",
       "    .dataframe tbody tr th {\n",
       "        vertical-align: top;\n",
       "    }\n",
       "\n",
       "    .dataframe thead th {\n",
       "        text-align: right;\n",
       "    }\n",
       "</style>\n",
       "<table border=\"1\" class=\"dataframe\">\n",
       "  <thead>\n",
       "    <tr style=\"text-align: right;\">\n",
       "      <th></th>\n",
       "      <th>pcd</th>\n",
       "      <th>pcd2</th>\n",
       "      <th>pcds</th>\n",
       "      <th>dointr</th>\n",
       "      <th>doterm</th>\n",
       "      <th>oscty</th>\n",
       "      <th>ced</th>\n",
       "      <th>oslaua</th>\n",
       "      <th>osward</th>\n",
       "      <th>parish</th>\n",
       "      <th>...</th>\n",
       "      <th>long</th>\n",
       "      <th>lep1</th>\n",
       "      <th>lep2</th>\n",
       "      <th>pfa</th>\n",
       "      <th>imd</th>\n",
       "      <th>calncv</th>\n",
       "      <th>icb</th>\n",
       "      <th>oa21</th>\n",
       "      <th>lsoa21</th>\n",
       "      <th>msoa21</th>\n",
       "    </tr>\n",
       "  </thead>\n",
       "  <tbody>\n",
       "    <tr>\n",
       "      <th>0</th>\n",
       "      <td>AB1 0AA</td>\n",
       "      <td>AB1  0AA</td>\n",
       "      <td>AB1 0AA</td>\n",
       "      <td>198001</td>\n",
       "      <td>199606.0</td>\n",
       "      <td>S99999999</td>\n",
       "      <td>S99999999</td>\n",
       "      <td>S12000033</td>\n",
       "      <td>S13002843</td>\n",
       "      <td>S99999999</td>\n",
       "      <td>...</td>\n",
       "      <td>-2.242851</td>\n",
       "      <td>S99999999</td>\n",
       "      <td>NaN</td>\n",
       "      <td>S23000009</td>\n",
       "      <td>6715</td>\n",
       "      <td>S99999999</td>\n",
       "      <td>S99999999</td>\n",
       "      <td>NaN</td>\n",
       "      <td>NaN</td>\n",
       "      <td>NaN</td>\n",
       "    </tr>\n",
       "    <tr>\n",
       "      <th>1</th>\n",
       "      <td>AB1 0AB</td>\n",
       "      <td>AB1  0AB</td>\n",
       "      <td>AB1 0AB</td>\n",
       "      <td>198001</td>\n",
       "      <td>199606.0</td>\n",
       "      <td>S99999999</td>\n",
       "      <td>S99999999</td>\n",
       "      <td>S12000033</td>\n",
       "      <td>S13002843</td>\n",
       "      <td>S99999999</td>\n",
       "      <td>...</td>\n",
       "      <td>-2.246308</td>\n",
       "      <td>S99999999</td>\n",
       "      <td>NaN</td>\n",
       "      <td>S23000009</td>\n",
       "      <td>6715</td>\n",
       "      <td>S99999999</td>\n",
       "      <td>S99999999</td>\n",
       "      <td>NaN</td>\n",
       "      <td>NaN</td>\n",
       "      <td>NaN</td>\n",
       "    </tr>\n",
       "  </tbody>\n",
       "</table>\n",
       "<p>2 rows × 53 columns</p>\n",
       "</div>"
      ],
      "text/plain": [
       "       pcd      pcd2     pcds  dointr    doterm      oscty        ced  \\\n",
       "0  AB1 0AA  AB1  0AA  AB1 0AA  198001  199606.0  S99999999  S99999999   \n",
       "1  AB1 0AB  AB1  0AB  AB1 0AB  198001  199606.0  S99999999  S99999999   \n",
       "\n",
       "      oslaua     osward     parish  ...      long       lep1  lep2        pfa  \\\n",
       "0  S12000033  S13002843  S99999999  ... -2.242851  S99999999   NaN  S23000009   \n",
       "1  S12000033  S13002843  S99999999  ... -2.246308  S99999999   NaN  S23000009   \n",
       "\n",
       "    imd     calncv        icb oa21 lsoa21 msoa21  \n",
       "0  6715  S99999999  S99999999  NaN    NaN    NaN  \n",
       "1  6715  S99999999  S99999999  NaN    NaN    NaN  \n",
       "\n",
       "[2 rows x 53 columns]"
      ]
     },
     "execution_count": 15,
     "metadata": {},
     "output_type": "execute_result"
    }
   ],
   "source": [
    "# Import ONS Postcode Directory data\n",
    "# This dataset contains information about the local authority and region for each postcode in the UK.\n",
    "ons_postcode = pd.read_csv(r\"C:\\Users\\Oke\\Downloads\\ONSPD_FEB_2024_UK\\Data\\ONSPD_FEB_2024_UK.csv\", sep=',')\n",
    "ons_postcode.head(2)"
   ]
  },
  {
   "cell_type": "code",
   "execution_count": 16,
   "id": "7e798767",
   "metadata": {},
   "outputs": [
    {
     "data": {
      "text/plain": [
       "Index(['pcd', 'pcd2', 'pcds', 'dointr', 'doterm', 'oscty', 'ced', 'oslaua',\n",
       "       'osward', 'parish', 'usertype', 'oseast1m', 'osnrth1m', 'osgrdind',\n",
       "       'oshlthau', 'nhser', 'ctry', 'rgn', 'streg', 'pcon', 'eer', 'teclec',\n",
       "       'ttwa', 'pct', 'itl', 'statsward', 'oa01', 'casward', 'npark', 'lsoa01',\n",
       "       'msoa01', 'ur01ind', 'oac01', 'oa11', 'lsoa11', 'msoa11', 'wz11',\n",
       "       'sicbl', 'bua11', 'buasd11', 'ru11ind', 'oac11', 'lat', 'long', 'lep1',\n",
       "       'lep2', 'pfa', 'imd', 'calncv', 'icb', 'oa21', 'lsoa21', 'msoa21'],\n",
       "      dtype='object')"
      ]
     },
     "execution_count": 16,
     "metadata": {},
     "output_type": "execute_result"
    }
   ],
   "source": [
    "ons_postcode.columns"
   ]
  },
  {
   "cell_type": "code",
   "execution_count": 17,
   "id": "153a3e72",
   "metadata": {},
   "outputs": [],
   "source": [
    "# Keep only the necessary columns from ons_postcode\n",
    "ons_region = ons_postcode[['pcd', 'rgn']].copy()\n",
    "\n",
    "# Standardize postcodes for matching (remove spaces, uppercase)\n",
    "epc['POSTCODE'] = epc['POSTCODE'].str.replace(' ', '').str.upper()\n",
    "ons_region['pcd'] = ons_region['pcd'].str.replace(' ', '').str.upper()"
   ]
  },
  {
   "cell_type": "code",
   "execution_count": 18,
   "id": "5f4833b4",
   "metadata": {},
   "outputs": [],
   "source": [
    "# Merge EPC with ONS region mapping\n",
    "epc = epc.merge(ons_region, how='left', left_on='POSTCODE', right_on='pcd')\n",
    "\n",
    "# Drop the duplicate pcd column\n",
    "epc.drop(columns=['pcd'], inplace=True)"
   ]
  },
  {
   "cell_type": "code",
   "execution_count": 19,
   "id": "e817f347",
   "metadata": {},
   "outputs": [],
   "source": [
    "# Mapping ONS region code (rgn) to EHS gov_region code (gorehs equivalent)\n",
    "rgn_to_gorehs = {\n",
    "    'E12000001': 1,  # North East\n",
    "    'E12000002': 2,  # North West\n",
    "    'E12000003': 4,  # Yorkshire and the Humber\n",
    "    'E12000004': 5,  # East Midlands\n",
    "    'E12000005': 6,  # West Midlands\n",
    "    'E12000006': 7,  # East of England\n",
    "    'E12000007': 8,  # London\n",
    "    'E12000008': 9,  # South East\n",
    "    'E12000009': 10  # South West\n",
    "}\n",
    "\n",
    "# Add matching EHS-style gov_region code to EPC\n",
    "epc['gov_region'] = epc['rgn'].map(rgn_to_gorehs)"
   ]
  },
  {
   "cell_type": "code",
   "execution_count": 20,
   "id": "c66a9241",
   "metadata": {},
   "outputs": [
    {
     "data": {
      "application/vnd.microsoft.datawrangler.viewer.v0+json": {
       "columns": [
        {
         "name": "index",
         "rawType": "int64",
         "type": "integer"
        },
        {
         "name": "gov_region",
         "rawType": "int64",
         "type": "integer"
        },
        {
         "name": "household_type",
         "rawType": "int64",
         "type": "integer"
        },
        {
         "name": "household_size",
         "rawType": "int64",
         "type": "integer"
        },
        {
         "name": "tenure_group",
         "rawType": "int64",
         "type": "integer"
        },
        {
         "name": "household_vulnerable",
         "rawType": "int64",
         "type": "integer"
        },
        {
         "name": "receives_housing_benefit",
         "rawType": "int64",
         "type": "integer"
        },
        {
         "name": "household_gross_income",
         "rawType": "float64",
         "type": "float"
        },
        {
         "name": "LMK_KEY",
         "rawType": "object",
         "type": "string"
        },
        {
         "name": "UPRN",
         "rawType": "float64",
         "type": "float"
        },
        {
         "name": "POSTCODE",
         "rawType": "object",
         "type": "string"
        },
        {
         "name": "PROPERTY_TYPE",
         "rawType": "object",
         "type": "string"
        },
        {
         "name": "BUILT_FORM",
         "rawType": "object",
         "type": "string"
        },
        {
         "name": "CURRENT_ENERGY_RATING",
         "rawType": "object",
         "type": "string"
        },
        {
         "name": "POTENTIAL_ENERGY_RATING",
         "rawType": "object",
         "type": "string"
        },
        {
         "name": "HEATING_COST_CURRENT",
         "rawType": "float64",
         "type": "float"
        },
        {
         "name": "HEATING_COST_POTENTIAL",
         "rawType": "float64",
         "type": "float"
        },
        {
         "name": "CO2_EMISSIONS_CURRENT",
         "rawType": "float64",
         "type": "float"
        },
        {
         "name": "CO2_EMISSIONS_POTENTIAL",
         "rawType": "float64",
         "type": "float"
        },
        {
         "name": "TOTAL_FLOOR_AREA",
         "rawType": "float64",
         "type": "float"
        },
        {
         "name": "MAINHEAT_DESCRIPTION",
         "rawType": "object",
         "type": "string"
        },
        {
         "name": "MAIN_FUEL",
         "rawType": "object",
         "type": "string"
        },
        {
         "name": "CONSTRUCTION_AGE_BAND",
         "rawType": "object",
         "type": "string"
        },
        {
         "name": "LOCAL_AUTHORITY",
         "rawType": "object",
         "type": "string"
        },
        {
         "name": "COUNTY",
         "rawType": "float64",
         "type": "float"
        },
        {
         "name": "rgn",
         "rawType": "object",
         "type": "string"
        }
       ],
       "conversionMethod": "pd.DataFrame",
       "ref": "f3c46ab8-ec2c-4d07-a86c-a78580533e3b",
       "rows": [
        [
         "0",
         "1",
         "1",
         "2",
         "4",
         "2",
         "2",
         "13336.0",
         "0003352408dad177e827f77c62ed7172f2f16336c44dcdedbc315d08755600a2",
         "100110786110.0",
         "TS253JH",
         "Flat",
         "End-Terrace",
         "E",
         "B",
         "119.0",
         "107.0",
         "3.2",
         "1.6",
         "36.0",
         "Electric storage heaters",
         "electricity (not community)",
         "England and Wales: 1983-1990",
         "E06000001",
         null,
         "E12000001"
        ],
        [
         "1",
         "1",
         "1",
         "2",
         "4",
         "2",
         "2",
         "13336.0",
         "1514938939222017012914223649268943",
         "100110027519.0",
         "TS240ET",
         "House",
         "Mid-Terrace",
         "D",
         "B",
         "666.0",
         "596.0",
         "3.5",
         "1.9",
         "88.0",
         "Boiler and radiators, mains gas",
         "mains gas (not community)",
         "England and Wales: 1950-1966",
         "E06000001",
         null,
         "E12000001"
        ]
       ],
       "shape": {
        "columns": 25,
        "rows": 2
       }
      },
      "text/html": [
       "<div>\n",
       "<style scoped>\n",
       "    .dataframe tbody tr th:only-of-type {\n",
       "        vertical-align: middle;\n",
       "    }\n",
       "\n",
       "    .dataframe tbody tr th {\n",
       "        vertical-align: top;\n",
       "    }\n",
       "\n",
       "    .dataframe thead th {\n",
       "        text-align: right;\n",
       "    }\n",
       "</style>\n",
       "<table border=\"1\" class=\"dataframe\">\n",
       "  <thead>\n",
       "    <tr style=\"text-align: right;\">\n",
       "      <th></th>\n",
       "      <th>gov_region</th>\n",
       "      <th>household_type</th>\n",
       "      <th>household_size</th>\n",
       "      <th>tenure_group</th>\n",
       "      <th>household_vulnerable</th>\n",
       "      <th>receives_housing_benefit</th>\n",
       "      <th>household_gross_income</th>\n",
       "      <th>LMK_KEY</th>\n",
       "      <th>UPRN</th>\n",
       "      <th>POSTCODE</th>\n",
       "      <th>...</th>\n",
       "      <th>HEATING_COST_POTENTIAL</th>\n",
       "      <th>CO2_EMISSIONS_CURRENT</th>\n",
       "      <th>CO2_EMISSIONS_POTENTIAL</th>\n",
       "      <th>TOTAL_FLOOR_AREA</th>\n",
       "      <th>MAINHEAT_DESCRIPTION</th>\n",
       "      <th>MAIN_FUEL</th>\n",
       "      <th>CONSTRUCTION_AGE_BAND</th>\n",
       "      <th>LOCAL_AUTHORITY</th>\n",
       "      <th>COUNTY</th>\n",
       "      <th>rgn</th>\n",
       "    </tr>\n",
       "  </thead>\n",
       "  <tbody>\n",
       "    <tr>\n",
       "      <th>0</th>\n",
       "      <td>1</td>\n",
       "      <td>1</td>\n",
       "      <td>2</td>\n",
       "      <td>4</td>\n",
       "      <td>2</td>\n",
       "      <td>2</td>\n",
       "      <td>13336.0</td>\n",
       "      <td>0003352408dad177e827f77c62ed7172f2f16336c44dcd...</td>\n",
       "      <td>1.001108e+11</td>\n",
       "      <td>TS253JH</td>\n",
       "      <td>...</td>\n",
       "      <td>107.0</td>\n",
       "      <td>3.2</td>\n",
       "      <td>1.6</td>\n",
       "      <td>36.0</td>\n",
       "      <td>Electric storage heaters</td>\n",
       "      <td>electricity (not community)</td>\n",
       "      <td>England and Wales: 1983-1990</td>\n",
       "      <td>E06000001</td>\n",
       "      <td>NaN</td>\n",
       "      <td>E12000001</td>\n",
       "    </tr>\n",
       "    <tr>\n",
       "      <th>1</th>\n",
       "      <td>1</td>\n",
       "      <td>1</td>\n",
       "      <td>2</td>\n",
       "      <td>4</td>\n",
       "      <td>2</td>\n",
       "      <td>2</td>\n",
       "      <td>13336.0</td>\n",
       "      <td>1514938939222017012914223649268943</td>\n",
       "      <td>1.001100e+11</td>\n",
       "      <td>TS240ET</td>\n",
       "      <td>...</td>\n",
       "      <td>596.0</td>\n",
       "      <td>3.5</td>\n",
       "      <td>1.9</td>\n",
       "      <td>88.0</td>\n",
       "      <td>Boiler and radiators, mains gas</td>\n",
       "      <td>mains gas (not community)</td>\n",
       "      <td>England and Wales: 1950-1966</td>\n",
       "      <td>E06000001</td>\n",
       "      <td>NaN</td>\n",
       "      <td>E12000001</td>\n",
       "    </tr>\n",
       "  </tbody>\n",
       "</table>\n",
       "<p>2 rows × 25 columns</p>\n",
       "</div>"
      ],
      "text/plain": [
       "   gov_region  household_type  household_size  tenure_group  \\\n",
       "0           1               1               2             4   \n",
       "1           1               1               2             4   \n",
       "\n",
       "   household_vulnerable  receives_housing_benefit  household_gross_income  \\\n",
       "0                     2                         2                 13336.0   \n",
       "1                     2                         2                 13336.0   \n",
       "\n",
       "                                             LMK_KEY          UPRN POSTCODE  \\\n",
       "0  0003352408dad177e827f77c62ed7172f2f16336c44dcd...  1.001108e+11  TS253JH   \n",
       "1                 1514938939222017012914223649268943  1.001100e+11  TS240ET   \n",
       "\n",
       "   ... HEATING_COST_POTENTIAL CO2_EMISSIONS_CURRENT CO2_EMISSIONS_POTENTIAL  \\\n",
       "0  ...                  107.0                   3.2                     1.6   \n",
       "1  ...                  596.0                   3.5                     1.9   \n",
       "\n",
       "  TOTAL_FLOOR_AREA             MAINHEAT_DESCRIPTION  \\\n",
       "0             36.0         Electric storage heaters   \n",
       "1             88.0  Boiler and radiators, mains gas   \n",
       "\n",
       "                     MAIN_FUEL         CONSTRUCTION_AGE_BAND  LOCAL_AUTHORITY  \\\n",
       "0  electricity (not community)  England and Wales: 1983-1990        E06000001   \n",
       "1    mains gas (not community)  England and Wales: 1950-1966        E06000001   \n",
       "\n",
       "   COUNTY        rgn  \n",
       "0     NaN  E12000001  \n",
       "1     NaN  E12000001  \n",
       "\n",
       "[2 rows x 25 columns]"
      ]
     },
     "execution_count": 20,
     "metadata": {},
     "output_type": "execute_result"
    }
   ],
   "source": [
    "# Merge on government office region\n",
    "merged_data = pd.merge(ehs, epc, on='gov_region', how='inner')\n",
    "# Display the first few rows of the merged dataset\n",
    "merged_data.head(2)"
   ]
  },
  {
   "cell_type": "code",
   "execution_count": 21,
   "id": "2fcac682",
   "metadata": {},
   "outputs": [
    {
     "data": {
      "text/plain": [
       "Index(['gov_region', 'household_type', 'household_size', 'tenure_group',\n",
       "       'household_vulnerable', 'receives_housing_benefit',\n",
       "       'household_gross_income', 'LMK_KEY', 'UPRN', 'POSTCODE',\n",
       "       'PROPERTY_TYPE', 'BUILT_FORM', 'CURRENT_ENERGY_RATING',\n",
       "       'POTENTIAL_ENERGY_RATING', 'HEATING_COST_CURRENT',\n",
       "       'HEATING_COST_POTENTIAL', 'CO2_EMISSIONS_CURRENT',\n",
       "       'CO2_EMISSIONS_POTENTIAL', 'TOTAL_FLOOR_AREA', 'MAINHEAT_DESCRIPTION',\n",
       "       'MAIN_FUEL', 'CONSTRUCTION_AGE_BAND', 'LOCAL_AUTHORITY', 'COUNTY',\n",
       "       'rgn'],\n",
       "      dtype='object')"
      ]
     },
     "execution_count": 21,
     "metadata": {},
     "output_type": "execute_result"
    }
   ],
   "source": [
    "merged_data.columns"
   ]
  },
  {
   "cell_type": "code",
   "execution_count": 22,
   "id": "a58cda0d",
   "metadata": {},
   "outputs": [
    {
     "data": {
      "application/vnd.microsoft.datawrangler.viewer.v0+json": {
       "columns": [
        {
         "name": "index",
         "rawType": "int64",
         "type": "integer"
        },
        {
         "name": "gov_region",
         "rawType": "int64",
         "type": "integer"
        },
        {
         "name": "household_type",
         "rawType": "int64",
         "type": "integer"
        },
        {
         "name": "household_size",
         "rawType": "int64",
         "type": "integer"
        },
        {
         "name": "tenure_group",
         "rawType": "int64",
         "type": "integer"
        },
        {
         "name": "household_vulnerable",
         "rawType": "int64",
         "type": "integer"
        },
        {
         "name": "receives_housing_benefit",
         "rawType": "int64",
         "type": "integer"
        },
        {
         "name": "household_gross_income",
         "rawType": "float64",
         "type": "float"
        },
        {
         "name": "PROPERTY_TYPE",
         "rawType": "object",
         "type": "string"
        },
        {
         "name": "BUILT_FORM",
         "rawType": "object",
         "type": "string"
        },
        {
         "name": "CURRENT_ENERGY_RATING",
         "rawType": "object",
         "type": "string"
        },
        {
         "name": "HEATING_COST_CURRENT",
         "rawType": "float64",
         "type": "float"
        },
        {
         "name": "CO2_EMISSIONS_CURRENT",
         "rawType": "float64",
         "type": "float"
        },
        {
         "name": "TOTAL_FLOOR_AREA",
         "rawType": "float64",
         "type": "float"
        },
        {
         "name": "MAIN_FUEL",
         "rawType": "object",
         "type": "string"
        },
        {
         "name": "CONSTRUCTION_AGE_BAND",
         "rawType": "object",
         "type": "string"
        }
       ],
       "conversionMethod": "pd.DataFrame",
       "ref": "68e8f62e-c36b-44db-865e-758c2f921bd6",
       "rows": [
        [
         "0",
         "1",
         "1",
         "2",
         "4",
         "2",
         "2",
         "13336.0",
         "Flat",
         "End-Terrace",
         "E",
         "119.0",
         "3.2",
         "36.0",
         "electricity (not community)",
         "England and Wales: 1983-1990"
        ],
        [
         "1",
         "1",
         "1",
         "2",
         "4",
         "2",
         "2",
         "13336.0",
         "House",
         "Mid-Terrace",
         "D",
         "666.0",
         "3.5",
         "88.0",
         "mains gas (not community)",
         "England and Wales: 1950-1966"
        ]
       ],
       "shape": {
        "columns": 15,
        "rows": 2
       }
      },
      "text/html": [
       "<div>\n",
       "<style scoped>\n",
       "    .dataframe tbody tr th:only-of-type {\n",
       "        vertical-align: middle;\n",
       "    }\n",
       "\n",
       "    .dataframe tbody tr th {\n",
       "        vertical-align: top;\n",
       "    }\n",
       "\n",
       "    .dataframe thead th {\n",
       "        text-align: right;\n",
       "    }\n",
       "</style>\n",
       "<table border=\"1\" class=\"dataframe\">\n",
       "  <thead>\n",
       "    <tr style=\"text-align: right;\">\n",
       "      <th></th>\n",
       "      <th>gov_region</th>\n",
       "      <th>household_type</th>\n",
       "      <th>household_size</th>\n",
       "      <th>tenure_group</th>\n",
       "      <th>household_vulnerable</th>\n",
       "      <th>receives_housing_benefit</th>\n",
       "      <th>household_gross_income</th>\n",
       "      <th>PROPERTY_TYPE</th>\n",
       "      <th>BUILT_FORM</th>\n",
       "      <th>CURRENT_ENERGY_RATING</th>\n",
       "      <th>HEATING_COST_CURRENT</th>\n",
       "      <th>CO2_EMISSIONS_CURRENT</th>\n",
       "      <th>TOTAL_FLOOR_AREA</th>\n",
       "      <th>MAIN_FUEL</th>\n",
       "      <th>CONSTRUCTION_AGE_BAND</th>\n",
       "    </tr>\n",
       "  </thead>\n",
       "  <tbody>\n",
       "    <tr>\n",
       "      <th>0</th>\n",
       "      <td>1</td>\n",
       "      <td>1</td>\n",
       "      <td>2</td>\n",
       "      <td>4</td>\n",
       "      <td>2</td>\n",
       "      <td>2</td>\n",
       "      <td>13336.0</td>\n",
       "      <td>Flat</td>\n",
       "      <td>End-Terrace</td>\n",
       "      <td>E</td>\n",
       "      <td>119.0</td>\n",
       "      <td>3.2</td>\n",
       "      <td>36.0</td>\n",
       "      <td>electricity (not community)</td>\n",
       "      <td>England and Wales: 1983-1990</td>\n",
       "    </tr>\n",
       "    <tr>\n",
       "      <th>1</th>\n",
       "      <td>1</td>\n",
       "      <td>1</td>\n",
       "      <td>2</td>\n",
       "      <td>4</td>\n",
       "      <td>2</td>\n",
       "      <td>2</td>\n",
       "      <td>13336.0</td>\n",
       "      <td>House</td>\n",
       "      <td>Mid-Terrace</td>\n",
       "      <td>D</td>\n",
       "      <td>666.0</td>\n",
       "      <td>3.5</td>\n",
       "      <td>88.0</td>\n",
       "      <td>mains gas (not community)</td>\n",
       "      <td>England and Wales: 1950-1966</td>\n",
       "    </tr>\n",
       "  </tbody>\n",
       "</table>\n",
       "</div>"
      ],
      "text/plain": [
       "   gov_region  household_type  household_size  tenure_group  \\\n",
       "0           1               1               2             4   \n",
       "1           1               1               2             4   \n",
       "\n",
       "   household_vulnerable  receives_housing_benefit  household_gross_income  \\\n",
       "0                     2                         2                 13336.0   \n",
       "1                     2                         2                 13336.0   \n",
       "\n",
       "  PROPERTY_TYPE   BUILT_FORM CURRENT_ENERGY_RATING  HEATING_COST_CURRENT  \\\n",
       "0          Flat  End-Terrace                     E                 119.0   \n",
       "1         House  Mid-Terrace                     D                 666.0   \n",
       "\n",
       "   CO2_EMISSIONS_CURRENT  TOTAL_FLOOR_AREA                    MAIN_FUEL  \\\n",
       "0                    3.2              36.0  electricity (not community)   \n",
       "1                    3.5              88.0    mains gas (not community)   \n",
       "\n",
       "          CONSTRUCTION_AGE_BAND  \n",
       "0  England and Wales: 1983-1990  \n",
       "1  England and Wales: 1950-1966  "
      ]
     },
     "execution_count": 22,
     "metadata": {},
     "output_type": "execute_result"
    }
   ],
   "source": [
    "# Keep only the relevant columns for the final dataset\n",
    "selected_features = [\n",
    "    'gov_region',\n",
    "    'household_type',\n",
    "    'household_size',\n",
    "    'tenure_group',\n",
    "    'household_vulnerable',\n",
    "    'receives_housing_benefit',\n",
    "    'household_gross_income',\n",
    "    'PROPERTY_TYPE',\n",
    "    'BUILT_FORM',\n",
    "    'CURRENT_ENERGY_RATING',\n",
    "    'HEATING_COST_CURRENT',\n",
    "    'CO2_EMISSIONS_CURRENT',\n",
    "    'TOTAL_FLOOR_AREA',\n",
    "    'MAIN_FUEL',\n",
    "    'CONSTRUCTION_AGE_BAND'\n",
    "]\n",
    "\n",
    "final_data = merged_data[selected_features]\n",
    "# Display the first few rows of the final dataset\n",
    "final_data.head(2)"
   ]
  },
  {
   "cell_type": "code",
   "execution_count": null,
   "id": "360ca834",
   "metadata": {},
   "outputs": [],
   "source": []
  }
 ],
 "metadata": {
  "kernelspec": {
   "display_name": "Python 3",
   "language": "python",
   "name": "python3"
  },
  "language_info": {
   "codemirror_mode": {
    "name": "ipython",
    "version": 3
   },
   "file_extension": ".py",
   "mimetype": "text/x-python",
   "name": "python",
   "nbconvert_exporter": "python",
   "pygments_lexer": "ipython3",
   "version": "3.12.10"
  }
 },
 "nbformat": 4,
 "nbformat_minor": 5
}
