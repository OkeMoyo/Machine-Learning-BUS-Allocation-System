{
 "cells": [
  {
   "cell_type": "markdown",
   "id": "7c1776a6",
   "metadata": {},
   "source": [
    "# **ML Optimal BUS Allocation System**"
   ]
  },
  {
   "cell_type": "code",
   "execution_count": 2,
   "id": "26cbf5a0",
   "metadata": {},
   "outputs": [
    {
     "data": {
      "application/vnd.microsoft.datawrangler.viewer.v0+json": {
       "columns": [
        {
         "name": "index",
         "rawType": "int64",
         "type": "integer"
        },
        {
         "name": "serialanon",
         "rawType": "int64",
         "type": "integer"
        },
        {
         "name": "aagfh18",
         "rawType": "float64",
         "type": "float"
        },
        {
         "name": "aagfh18new",
         "rawType": "float64",
         "type": "float"
        },
        {
         "name": "gorehs",
         "rawType": "int64",
         "type": "integer"
        },
        {
         "name": "hhcomp1",
         "rawType": "int64",
         "type": "integer"
        },
        {
         "name": "hhtype6",
         "rawType": "int64",
         "type": "integer"
        },
        {
         "name": "hhsizex",
         "rawType": "int64",
         "type": "integer"
        },
        {
         "name": "ndepchild",
         "rawType": "int64",
         "type": "integer"
        },
        {
         "name": "noUnits1",
         "rawType": "int64",
         "type": "integer"
        },
        {
         "name": "agehrp4x",
         "rawType": "int64",
         "type": "integer"
        },
        {
         "name": "agehrp6x",
         "rawType": "int64",
         "type": "integer"
        },
        {
         "name": "emphrpx",
         "rawType": "int64",
         "type": "integer"
        },
        {
         "name": "ethhrp2x",
         "rawType": "int64",
         "type": "integer"
        },
        {
         "name": "sexhrp",
         "rawType": "int64",
         "type": "integer"
        },
        {
         "name": "bedstdx",
         "rawType": "int64",
         "type": "integer"
        },
        {
         "name": "nbedsx",
         "rawType": "int64",
         "type": "integer"
        },
        {
         "name": "bedrqx",
         "rawType": "int64",
         "type": "integer"
        },
        {
         "name": "nrooms1a",
         "rawType": "int64",
         "type": "integer"
        },
        {
         "name": "sharer",
         "rawType": "int64",
         "type": "integer"
        },
        {
         "name": "accomhh1",
         "rawType": "int64",
         "type": "integer"
        },
        {
         "name": "lenresb",
         "rawType": "int64",
         "type": "integer"
        },
        {
         "name": "ftbuyer",
         "rawType": "int64",
         "type": "integer"
        },
        {
         "name": "tenure2",
         "rawType": "int64",
         "type": "integer"
        },
        {
         "name": "tenure4",
         "rawType": "int64",
         "type": "integer"
        },
        {
         "name": "hhltsick",
         "rawType": "int64",
         "type": "integer"
        },
        {
         "name": "mortwkx",
         "rawType": "float64",
         "type": "float"
        },
        {
         "name": "rentwkx",
         "rawType": "float64",
         "type": "float"
        },
        {
         "name": "amthbenx",
         "rawType": "float64",
         "type": "float"
        },
        {
         "name": "housbenx",
         "rawType": "int64",
         "type": "integer"
        },
        {
         "name": "JOINTINCx",
         "rawType": "float64",
         "type": "float"
        },
        {
         "name": "HYEARGRx",
         "rawType": "float64",
         "type": "float"
        },
        {
         "name": "hhvulx",
         "rawType": "int64",
         "type": "integer"
        }
       ],
       "conversionMethod": "pd.DataFrame",
       "ref": "febb84c8-a16a-40b6-a47a-ed1d38059ee4",
       "rows": [
        [
         "0",
         "18190000002",
         "810.653613028386",
         "0.462654485775734",
         "4",
         "7",
         "5",
         "1",
         "0",
         "1",
         "3",
         "5",
         "2",
         "1",
         "2",
         "5",
         "3",
         "1",
         "5",
         "2",
         "2",
         "7",
         "3",
         "4",
         "2",
         "2",
         "-9.0",
         "86.7692307692308",
         "0.0",
         "2",
         "6760.0",
         "6760.0",
         "2"
        ],
        [
         "1",
         "18190000005",
         "2757.28412056473",
         "1.57363126054778",
         "10",
         "7",
         "5",
         "1",
         "0",
         "1",
         "3",
         "4",
         "1",
         "1",
         "2",
         "4",
         "2",
         "1",
         "4",
         "2",
         "3",
         "6",
         "2",
         "2",
         "1",
         "1",
         "80.7692307692308",
         "-9.0",
         "-9.0",
         "-9",
         "41175.0",
         "41175.0",
         "2"
        ],
        [
         "2",
         "18190000006",
         "708.592029448452",
         "0.404406118396931",
         "1",
         "1",
         "1",
         "2",
         "0",
         "1",
         "4",
         "6",
         "3",
         "1",
         "1",
         "5",
         "4",
         "1",
         "6",
         "2",
         "3",
         "8",
         "3",
         "4",
         "2",
         "1",
         "-9.0",
         "107.0",
         "0.0",
         "2",
         "13336.0",
         "13336.0",
         "2"
        ],
        [
         "3",
         "18190000008",
         "3458.74106897176",
         "1.97396526084503",
         "10",
         "1",
         "2",
         "4",
         "1",
         "1",
         "3",
         "4",
         "2",
         "1",
         "2",
         "4",
         "4",
         "3",
         "6",
         "2",
         "1",
         "5",
         "2",
         "2",
         "1",
         "2",
         "570.623527333377",
         "-9.0",
         "-9.0",
         "-9",
         "54317.52966",
         "54317.52966",
         "2"
        ],
        [
         "4",
         "18190000012",
         "862.639365861857",
         "0.492323682777132",
         "5",
         "1",
         "1",
         "2",
         "0",
         "1",
         "3",
         "5",
         "1",
         "1",
         "1",
         "5",
         "3",
         "1",
         "5",
         "2",
         "3",
         "8",
         "1",
         "1",
         "1",
         "1",
         "0.0",
         "-9.0",
         "-9.0",
         "-9",
         "46602.5",
         "46602.5",
         "2"
        ]
       ],
       "shape": {
        "columns": 32,
        "rows": 5
       }
      },
      "text/html": [
       "<div>\n",
       "<style scoped>\n",
       "    .dataframe tbody tr th:only-of-type {\n",
       "        vertical-align: middle;\n",
       "    }\n",
       "\n",
       "    .dataframe tbody tr th {\n",
       "        vertical-align: top;\n",
       "    }\n",
       "\n",
       "    .dataframe thead th {\n",
       "        text-align: right;\n",
       "    }\n",
       "</style>\n",
       "<table border=\"1\" class=\"dataframe\">\n",
       "  <thead>\n",
       "    <tr style=\"text-align: right;\">\n",
       "      <th></th>\n",
       "      <th>serialanon</th>\n",
       "      <th>aagfh18</th>\n",
       "      <th>aagfh18new</th>\n",
       "      <th>gorehs</th>\n",
       "      <th>hhcomp1</th>\n",
       "      <th>hhtype6</th>\n",
       "      <th>hhsizex</th>\n",
       "      <th>ndepchild</th>\n",
       "      <th>noUnits1</th>\n",
       "      <th>agehrp4x</th>\n",
       "      <th>...</th>\n",
       "      <th>tenure2</th>\n",
       "      <th>tenure4</th>\n",
       "      <th>hhltsick</th>\n",
       "      <th>mortwkx</th>\n",
       "      <th>rentwkx</th>\n",
       "      <th>amthbenx</th>\n",
       "      <th>housbenx</th>\n",
       "      <th>JOINTINCx</th>\n",
       "      <th>HYEARGRx</th>\n",
       "      <th>hhvulx</th>\n",
       "    </tr>\n",
       "  </thead>\n",
       "  <tbody>\n",
       "    <tr>\n",
       "      <th>0</th>\n",
       "      <td>18190000002</td>\n",
       "      <td>810.653613</td>\n",
       "      <td>0.462654</td>\n",
       "      <td>4</td>\n",
       "      <td>7</td>\n",
       "      <td>5</td>\n",
       "      <td>1</td>\n",
       "      <td>0</td>\n",
       "      <td>1</td>\n",
       "      <td>3</td>\n",
       "      <td>...</td>\n",
       "      <td>4</td>\n",
       "      <td>2</td>\n",
       "      <td>2</td>\n",
       "      <td>-9.000000</td>\n",
       "      <td>86.769231</td>\n",
       "      <td>0.0</td>\n",
       "      <td>2</td>\n",
       "      <td>6760.00000</td>\n",
       "      <td>6760.00000</td>\n",
       "      <td>2</td>\n",
       "    </tr>\n",
       "    <tr>\n",
       "      <th>1</th>\n",
       "      <td>18190000005</td>\n",
       "      <td>2757.284121</td>\n",
       "      <td>1.573631</td>\n",
       "      <td>10</td>\n",
       "      <td>7</td>\n",
       "      <td>5</td>\n",
       "      <td>1</td>\n",
       "      <td>0</td>\n",
       "      <td>1</td>\n",
       "      <td>3</td>\n",
       "      <td>...</td>\n",
       "      <td>2</td>\n",
       "      <td>1</td>\n",
       "      <td>1</td>\n",
       "      <td>80.769231</td>\n",
       "      <td>-9.000000</td>\n",
       "      <td>-9.0</td>\n",
       "      <td>-9</td>\n",
       "      <td>41175.00000</td>\n",
       "      <td>41175.00000</td>\n",
       "      <td>2</td>\n",
       "    </tr>\n",
       "    <tr>\n",
       "      <th>2</th>\n",
       "      <td>18190000006</td>\n",
       "      <td>708.592029</td>\n",
       "      <td>0.404406</td>\n",
       "      <td>1</td>\n",
       "      <td>1</td>\n",
       "      <td>1</td>\n",
       "      <td>2</td>\n",
       "      <td>0</td>\n",
       "      <td>1</td>\n",
       "      <td>4</td>\n",
       "      <td>...</td>\n",
       "      <td>4</td>\n",
       "      <td>2</td>\n",
       "      <td>1</td>\n",
       "      <td>-9.000000</td>\n",
       "      <td>107.000000</td>\n",
       "      <td>0.0</td>\n",
       "      <td>2</td>\n",
       "      <td>13336.00000</td>\n",
       "      <td>13336.00000</td>\n",
       "      <td>2</td>\n",
       "    </tr>\n",
       "    <tr>\n",
       "      <th>3</th>\n",
       "      <td>18190000008</td>\n",
       "      <td>3458.741069</td>\n",
       "      <td>1.973965</td>\n",
       "      <td>10</td>\n",
       "      <td>1</td>\n",
       "      <td>2</td>\n",
       "      <td>4</td>\n",
       "      <td>1</td>\n",
       "      <td>1</td>\n",
       "      <td>3</td>\n",
       "      <td>...</td>\n",
       "      <td>2</td>\n",
       "      <td>1</td>\n",
       "      <td>2</td>\n",
       "      <td>570.623527</td>\n",
       "      <td>-9.000000</td>\n",
       "      <td>-9.0</td>\n",
       "      <td>-9</td>\n",
       "      <td>54317.52966</td>\n",
       "      <td>54317.52966</td>\n",
       "      <td>2</td>\n",
       "    </tr>\n",
       "    <tr>\n",
       "      <th>4</th>\n",
       "      <td>18190000012</td>\n",
       "      <td>862.639366</td>\n",
       "      <td>0.492324</td>\n",
       "      <td>5</td>\n",
       "      <td>1</td>\n",
       "      <td>1</td>\n",
       "      <td>2</td>\n",
       "      <td>0</td>\n",
       "      <td>1</td>\n",
       "      <td>3</td>\n",
       "      <td>...</td>\n",
       "      <td>1</td>\n",
       "      <td>1</td>\n",
       "      <td>1</td>\n",
       "      <td>0.000000</td>\n",
       "      <td>-9.000000</td>\n",
       "      <td>-9.0</td>\n",
       "      <td>-9</td>\n",
       "      <td>46602.50000</td>\n",
       "      <td>46602.50000</td>\n",
       "      <td>2</td>\n",
       "    </tr>\n",
       "  </tbody>\n",
       "</table>\n",
       "<p>5 rows × 32 columns</p>\n",
       "</div>"
      ],
      "text/plain": [
       "    serialanon      aagfh18  aagfh18new  gorehs  hhcomp1  hhtype6  hhsizex  \\\n",
       "0  18190000002   810.653613    0.462654       4        7        5        1   \n",
       "1  18190000005  2757.284121    1.573631      10        7        5        1   \n",
       "2  18190000006   708.592029    0.404406       1        1        1        2   \n",
       "3  18190000008  3458.741069    1.973965      10        1        2        4   \n",
       "4  18190000012   862.639366    0.492324       5        1        1        2   \n",
       "\n",
       "   ndepchild  noUnits1  agehrp4x  ...  tenure2  tenure4  hhltsick     mortwkx  \\\n",
       "0          0         1         3  ...        4        2         2   -9.000000   \n",
       "1          0         1         3  ...        2        1         1   80.769231   \n",
       "2          0         1         4  ...        4        2         1   -9.000000   \n",
       "3          1         1         3  ...        2        1         2  570.623527   \n",
       "4          0         1         3  ...        1        1         1    0.000000   \n",
       "\n",
       "      rentwkx  amthbenx  housbenx    JOINTINCx     HYEARGRx  hhvulx  \n",
       "0   86.769231       0.0         2   6760.00000   6760.00000       2  \n",
       "1   -9.000000      -9.0        -9  41175.00000  41175.00000       2  \n",
       "2  107.000000       0.0         2  13336.00000  13336.00000       2  \n",
       "3   -9.000000      -9.0        -9  54317.52966  54317.52966       2  \n",
       "4   -9.000000      -9.0        -9  46602.50000  46602.50000       2  \n",
       "\n",
       "[5 rows x 32 columns]"
      ]
     },
     "execution_count": 2,
     "metadata": {},
     "output_type": "execute_result"
    }
   ],
   "source": [
    "import pandas as pd\n",
    "ehs = pd.read_csv(r\"C:\\Users\\Oke\\Downloads\\EHS_dataset_2018-2019\\UKDA-8717-tab\\tab\\ehs_1819_teaching.tab\", sep='\\t')\n",
    "ehs.head()"
   ]
  },
  {
   "cell_type": "code",
   "execution_count": 3,
   "id": "f93bffa1",
   "metadata": {},
   "outputs": [
    {
     "data": {
      "text/plain": [
       "Index(['serialanon', 'aagfh18', 'aagfh18new', 'gorehs', 'hhcomp1', 'hhtype6',\n",
       "       'hhsizex', 'ndepchild', 'noUnits1', 'agehrp4x', 'agehrp6x', 'emphrpx',\n",
       "       'ethhrp2x', 'sexhrp', 'bedstdx', 'nbedsx', 'bedrqx', 'nrooms1a',\n",
       "       'sharer', 'accomhh1', 'lenresb', 'ftbuyer', 'tenure2', 'tenure4',\n",
       "       'hhltsick', 'mortwkx', 'rentwkx', 'amthbenx', 'housbenx', 'JOINTINCx',\n",
       "       'HYEARGRx', 'hhvulx'],\n",
       "      dtype='object')"
      ]
     },
     "execution_count": 3,
     "metadata": {},
     "output_type": "execute_result"
    }
   ],
   "source": [
    "ehs.columns"
   ]
  },
  {
   "cell_type": "code",
   "execution_count": 4,
   "id": "39e8b670",
   "metadata": {},
   "outputs": [
    {
     "name": "stderr",
     "output_type": "stream",
     "text": [
      "C:\\Users\\Oke\\AppData\\Local\\Temp\\ipykernel_21932\\3004108577.py:1: DtypeWarning: Columns (37) have mixed types. Specify dtype option on import or set low_memory=False.\n",
      "  epc = pd.read_csv(r\"C:\\Users\\Oke\\Downloads\\epc_dataset\\domestic-E07000095-Broxbourne\\certificates.csv\", sep=',')\n"
     ]
    },
    {
     "data": {
      "application/vnd.microsoft.datawrangler.viewer.v0+json": {
       "columns": [
        {
         "name": "index",
         "rawType": "int64",
         "type": "integer"
        },
        {
         "name": "LMK_KEY",
         "rawType": "object",
         "type": "string"
        },
        {
         "name": "ADDRESS1",
         "rawType": "object",
         "type": "string"
        },
        {
         "name": "ADDRESS2",
         "rawType": "object",
         "type": "unknown"
        },
        {
         "name": "ADDRESS3",
         "rawType": "object",
         "type": "unknown"
        },
        {
         "name": "POSTCODE",
         "rawType": "object",
         "type": "string"
        },
        {
         "name": "BUILDING_REFERENCE_NUMBER",
         "rawType": "int64",
         "type": "integer"
        },
        {
         "name": "CURRENT_ENERGY_RATING",
         "rawType": "object",
         "type": "string"
        },
        {
         "name": "POTENTIAL_ENERGY_RATING",
         "rawType": "object",
         "type": "string"
        },
        {
         "name": "CURRENT_ENERGY_EFFICIENCY",
         "rawType": "int64",
         "type": "integer"
        },
        {
         "name": "POTENTIAL_ENERGY_EFFICIENCY",
         "rawType": "int64",
         "type": "integer"
        },
        {
         "name": "PROPERTY_TYPE",
         "rawType": "object",
         "type": "string"
        },
        {
         "name": "BUILT_FORM",
         "rawType": "object",
         "type": "string"
        },
        {
         "name": "INSPECTION_DATE",
         "rawType": "object",
         "type": "string"
        },
        {
         "name": "LOCAL_AUTHORITY",
         "rawType": "object",
         "type": "string"
        },
        {
         "name": "CONSTITUENCY",
         "rawType": "object",
         "type": "string"
        },
        {
         "name": "COUNTY",
         "rawType": "object",
         "type": "string"
        },
        {
         "name": "LODGEMENT_DATE",
         "rawType": "object",
         "type": "string"
        },
        {
         "name": "TRANSACTION_TYPE",
         "rawType": "object",
         "type": "string"
        },
        {
         "name": "ENVIRONMENT_IMPACT_CURRENT",
         "rawType": "int64",
         "type": "integer"
        },
        {
         "name": "ENVIRONMENT_IMPACT_POTENTIAL",
         "rawType": "int64",
         "type": "integer"
        },
        {
         "name": "ENERGY_CONSUMPTION_CURRENT",
         "rawType": "int64",
         "type": "integer"
        },
        {
         "name": "ENERGY_CONSUMPTION_POTENTIAL",
         "rawType": "int64",
         "type": "integer"
        },
        {
         "name": "CO2_EMISSIONS_CURRENT",
         "rawType": "float64",
         "type": "float"
        },
        {
         "name": "CO2_EMISS_CURR_PER_FLOOR_AREA",
         "rawType": "int64",
         "type": "integer"
        },
        {
         "name": "CO2_EMISSIONS_POTENTIAL",
         "rawType": "float64",
         "type": "float"
        },
        {
         "name": "LIGHTING_COST_CURRENT",
         "rawType": "int64",
         "type": "integer"
        },
        {
         "name": "LIGHTING_COST_POTENTIAL",
         "rawType": "int64",
         "type": "integer"
        },
        {
         "name": "HEATING_COST_CURRENT",
         "rawType": "int64",
         "type": "integer"
        },
        {
         "name": "HEATING_COST_POTENTIAL",
         "rawType": "int64",
         "type": "integer"
        },
        {
         "name": "HOT_WATER_COST_CURRENT",
         "rawType": "int64",
         "type": "integer"
        },
        {
         "name": "HOT_WATER_COST_POTENTIAL",
         "rawType": "int64",
         "type": "integer"
        },
        {
         "name": "TOTAL_FLOOR_AREA",
         "rawType": "float64",
         "type": "float"
        },
        {
         "name": "ENERGY_TARIFF",
         "rawType": "object",
         "type": "string"
        },
        {
         "name": "MAINS_GAS_FLAG",
         "rawType": "object",
         "type": "unknown"
        },
        {
         "name": "FLOOR_LEVEL",
         "rawType": "object",
         "type": "string"
        },
        {
         "name": "FLAT_TOP_STOREY",
         "rawType": "object",
         "type": "unknown"
        },
        {
         "name": "FLAT_STOREY_COUNT",
         "rawType": "float64",
         "type": "float"
        },
        {
         "name": "MAIN_HEATING_CONTROLS",
         "rawType": "object",
         "type": "unknown"
        },
        {
         "name": "MULTI_GLAZE_PROPORTION",
         "rawType": "float64",
         "type": "float"
        },
        {
         "name": "GLAZED_TYPE",
         "rawType": "object",
         "type": "string"
        },
        {
         "name": "GLAZED_AREA",
         "rawType": "object",
         "type": "string"
        },
        {
         "name": "EXTENSION_COUNT",
         "rawType": "float64",
         "type": "float"
        },
        {
         "name": "NUMBER_HABITABLE_ROOMS",
         "rawType": "float64",
         "type": "float"
        },
        {
         "name": "NUMBER_HEATED_ROOMS",
         "rawType": "float64",
         "type": "float"
        },
        {
         "name": "LOW_ENERGY_LIGHTING",
         "rawType": "float64",
         "type": "float"
        },
        {
         "name": "NUMBER_OPEN_FIREPLACES",
         "rawType": "float64",
         "type": "float"
        },
        {
         "name": "HOTWATER_DESCRIPTION",
         "rawType": "object",
         "type": "string"
        },
        {
         "name": "HOT_WATER_ENERGY_EFF",
         "rawType": "object",
         "type": "string"
        },
        {
         "name": "HOT_WATER_ENV_EFF",
         "rawType": "object",
         "type": "string"
        },
        {
         "name": "FLOOR_DESCRIPTION",
         "rawType": "object",
         "type": "string"
        },
        {
         "name": "FLOOR_ENERGY_EFF",
         "rawType": "object",
         "type": "string"
        },
        {
         "name": "FLOOR_ENV_EFF",
         "rawType": "object",
         "type": "unknown"
        },
        {
         "name": "WINDOWS_DESCRIPTION",
         "rawType": "object",
         "type": "string"
        },
        {
         "name": "WINDOWS_ENERGY_EFF",
         "rawType": "object",
         "type": "string"
        },
        {
         "name": "WINDOWS_ENV_EFF",
         "rawType": "object",
         "type": "string"
        },
        {
         "name": "WALLS_DESCRIPTION",
         "rawType": "object",
         "type": "string"
        },
        {
         "name": "WALLS_ENERGY_EFF",
         "rawType": "object",
         "type": "string"
        },
        {
         "name": "WALLS_ENV_EFF",
         "rawType": "object",
         "type": "string"
        },
        {
         "name": "SECONDHEAT_DESCRIPTION",
         "rawType": "object",
         "type": "unknown"
        },
        {
         "name": "SHEATING_ENERGY_EFF",
         "rawType": "float64",
         "type": "float"
        },
        {
         "name": "SHEATING_ENV_EFF",
         "rawType": "float64",
         "type": "float"
        },
        {
         "name": "ROOF_DESCRIPTION",
         "rawType": "object",
         "type": "string"
        },
        {
         "name": "ROOF_ENERGY_EFF",
         "rawType": "object",
         "type": "string"
        },
        {
         "name": "ROOF_ENV_EFF",
         "rawType": "object",
         "type": "string"
        },
        {
         "name": "MAINHEAT_DESCRIPTION",
         "rawType": "object",
         "type": "string"
        },
        {
         "name": "MAINHEAT_ENERGY_EFF",
         "rawType": "object",
         "type": "string"
        },
        {
         "name": "MAINHEAT_ENV_EFF",
         "rawType": "object",
         "type": "string"
        },
        {
         "name": "MAINHEATCONT_DESCRIPTION",
         "rawType": "object",
         "type": "string"
        },
        {
         "name": "MAINHEATC_ENERGY_EFF",
         "rawType": "object",
         "type": "string"
        },
        {
         "name": "MAINHEATC_ENV_EFF",
         "rawType": "object",
         "type": "string"
        },
        {
         "name": "LIGHTING_DESCRIPTION",
         "rawType": "object",
         "type": "string"
        },
        {
         "name": "LIGHTING_ENERGY_EFF",
         "rawType": "object",
         "type": "string"
        },
        {
         "name": "LIGHTING_ENV_EFF",
         "rawType": "object",
         "type": "string"
        },
        {
         "name": "MAIN_FUEL",
         "rawType": "object",
         "type": "string"
        },
        {
         "name": "WIND_TURBINE_COUNT",
         "rawType": "float64",
         "type": "float"
        },
        {
         "name": "HEAT_LOSS_CORRIDOR",
         "rawType": "object",
         "type": "string"
        },
        {
         "name": "UNHEATED_CORRIDOR_LENGTH",
         "rawType": "float64",
         "type": "float"
        },
        {
         "name": "FLOOR_HEIGHT",
         "rawType": "float64",
         "type": "float"
        },
        {
         "name": "PHOTO_SUPPLY",
         "rawType": "float64",
         "type": "float"
        },
        {
         "name": "SOLAR_WATER_HEATING_FLAG",
         "rawType": "object",
         "type": "unknown"
        },
        {
         "name": "MECHANICAL_VENTILATION",
         "rawType": "object",
         "type": "string"
        },
        {
         "name": "ADDRESS",
         "rawType": "object",
         "type": "string"
        },
        {
         "name": "LOCAL_AUTHORITY_LABEL",
         "rawType": "object",
         "type": "string"
        },
        {
         "name": "CONSTITUENCY_LABEL",
         "rawType": "object",
         "type": "string"
        },
        {
         "name": "POSTTOWN",
         "rawType": "object",
         "type": "string"
        },
        {
         "name": "CONSTRUCTION_AGE_BAND",
         "rawType": "object",
         "type": "string"
        },
        {
         "name": "LODGEMENT_DATETIME",
         "rawType": "object",
         "type": "string"
        },
        {
         "name": "TENURE",
         "rawType": "object",
         "type": "unknown"
        },
        {
         "name": "FIXED_LIGHTING_OUTLETS_COUNT",
         "rawType": "float64",
         "type": "float"
        },
        {
         "name": "LOW_ENERGY_FIXED_LIGHT_COUNT",
         "rawType": "float64",
         "type": "float"
        },
        {
         "name": "UPRN",
         "rawType": "float64",
         "type": "float"
        },
        {
         "name": "UPRN_SOURCE",
         "rawType": "object",
         "type": "string"
        },
        {
         "name": "REPORT_TYPE",
         "rawType": "int64",
         "type": "integer"
        }
       ],
       "conversionMethod": "pd.DataFrame",
       "ref": "c86436ee-4ca4-4a55-86cf-24fae0b3d67f",
       "rows": [
        [
         "0",
         "543418525652010092113573890200980",
         "59, King Edward Road",
         null,
         null,
         "EN8 7HY",
         "9054500868",
         "B",
         "B",
         "85",
         "85",
         "House",
         "Semi-Detached",
         "2010-09-20",
         "E07000095",
         "E14000606",
         "Hertfordshire",
         "2010-09-21",
         "new dwelling",
         "84",
         "84",
         "123",
         "123",
         "1.3",
         "20",
         "1.3",
         "42",
         "42",
         "231",
         "231",
         "87",
         "87",
         "65.24",
         "off-peak 7 hour",
         null,
         "NO DATA!",
         null,
         null,
         null,
         null,
         "NO DATA!",
         "NO DATA!",
         null,
         null,
         null,
         null,
         null,
         "From main system",
         "Very Good",
         "Very Good",
         "Average thermal transmittance 0.17 W/m?K",
         "Very Good",
         "Very Good",
         "Fully double glazed",
         "Good",
         "Good",
         "Average thermal transmittance 0.18 W/m?K",
         "Very Good",
         "Very Good",
         null,
         null,
         null,
         "Average thermal transmittance 0.15 W/m?K",
         "Good",
         "Good",
         "Boiler and radiators, mains gas",
         "Very Good",
         "Very Good",
         "Programmer, room thermostat and TRVs",
         "Average",
         "Average",
         "Low energy lighting in all fixed outlets",
         "Very Good",
         "Very Good",
         "mains gas - this is for backwards compatibility only and should not be used",
         "0.0",
         "NO DATA!",
         null,
         "2.4",
         null,
         null,
         "NO DATA!",
         "59, King Edward Road",
         "Broxbourne",
         "Broxbourne",
         "WALTHAM CROSS",
         "NO DATA!",
         "2010-09-21 13:57:38",
         null,
         null,
         null,
         "148013193.0",
         "Address Matched",
         "101"
        ],
        [
         "1",
         "1609256349302018022111362651682498",
         "58, Winford Drive",
         null,
         null,
         "EN10 6PP",
         "392346578",
         "F",
         "C",
         "34",
         "80",
         "House",
         "Semi-Detached",
         "2018-02-21",
         "E07000095",
         "E14000606",
         "Hertfordshire",
         "2018-02-21",
         "marketed sale",
         "33",
         "58",
         "472",
         "237",
         "7.3",
         "80",
         "3.7",
         "101",
         "68",
         "1350",
         "618",
         "405",
         "102",
         "92.0",
         "dual",
         "N",
         "NODATA!",
         null,
         null,
         "2605",
         "100.0",
         "double glazing, unknown install date",
         "Normal",
         "1.0",
         "4.0",
         "4.0",
         "42.0",
         "0.0",
         "Electric immersion, off-peak",
         "Poor",
         "Poor",
         "Solid, no insulation (assumed)",
         "NO DATA!",
         null,
         "Fully double glazed",
         "Average",
         "Average",
         "Cavity wall, as built, no insulation (assumed)",
         "Poor",
         "Poor",
         null,
         null,
         null,
         "Pitched, 150 mm loft insulation",
         "Good",
         "Good",
         "Room heaters, electric",
         "Very Poor",
         "Poor",
         "Programmer and room thermostats",
         "Good",
         "Good",
         "Low energy lighting in 42% of fixed outlets",
         "Average",
         "Average",
         "electricity (not community)",
         "0.0",
         "NO DATA!",
         null,
         null,
         null,
         "N",
         "natural",
         "58, Winford Drive",
         "Broxbourne",
         "Broxbourne",
         "BROXBOURNE",
         "England and Wales: 1967-1975",
         "2018-02-21 11:36:26",
         "unknown",
         null,
         null,
         "148026589.0",
         "Address Matched",
         "100"
        ]
       ],
       "shape": {
        "columns": 93,
        "rows": 2
       }
      },
      "text/html": [
       "<div>\n",
       "<style scoped>\n",
       "    .dataframe tbody tr th:only-of-type {\n",
       "        vertical-align: middle;\n",
       "    }\n",
       "\n",
       "    .dataframe tbody tr th {\n",
       "        vertical-align: top;\n",
       "    }\n",
       "\n",
       "    .dataframe thead th {\n",
       "        text-align: right;\n",
       "    }\n",
       "</style>\n",
       "<table border=\"1\" class=\"dataframe\">\n",
       "  <thead>\n",
       "    <tr style=\"text-align: right;\">\n",
       "      <th></th>\n",
       "      <th>LMK_KEY</th>\n",
       "      <th>ADDRESS1</th>\n",
       "      <th>ADDRESS2</th>\n",
       "      <th>ADDRESS3</th>\n",
       "      <th>POSTCODE</th>\n",
       "      <th>BUILDING_REFERENCE_NUMBER</th>\n",
       "      <th>CURRENT_ENERGY_RATING</th>\n",
       "      <th>POTENTIAL_ENERGY_RATING</th>\n",
       "      <th>CURRENT_ENERGY_EFFICIENCY</th>\n",
       "      <th>POTENTIAL_ENERGY_EFFICIENCY</th>\n",
       "      <th>...</th>\n",
       "      <th>CONSTITUENCY_LABEL</th>\n",
       "      <th>POSTTOWN</th>\n",
       "      <th>CONSTRUCTION_AGE_BAND</th>\n",
       "      <th>LODGEMENT_DATETIME</th>\n",
       "      <th>TENURE</th>\n",
       "      <th>FIXED_LIGHTING_OUTLETS_COUNT</th>\n",
       "      <th>LOW_ENERGY_FIXED_LIGHT_COUNT</th>\n",
       "      <th>UPRN</th>\n",
       "      <th>UPRN_SOURCE</th>\n",
       "      <th>REPORT_TYPE</th>\n",
       "    </tr>\n",
       "  </thead>\n",
       "  <tbody>\n",
       "    <tr>\n",
       "      <th>0</th>\n",
       "      <td>543418525652010092113573890200980</td>\n",
       "      <td>59, King Edward Road</td>\n",
       "      <td>NaN</td>\n",
       "      <td>NaN</td>\n",
       "      <td>EN8 7HY</td>\n",
       "      <td>9054500868</td>\n",
       "      <td>B</td>\n",
       "      <td>B</td>\n",
       "      <td>85</td>\n",
       "      <td>85</td>\n",
       "      <td>...</td>\n",
       "      <td>Broxbourne</td>\n",
       "      <td>WALTHAM CROSS</td>\n",
       "      <td>NO DATA!</td>\n",
       "      <td>2010-09-21 13:57:38</td>\n",
       "      <td>NaN</td>\n",
       "      <td>NaN</td>\n",
       "      <td>NaN</td>\n",
       "      <td>148013193.0</td>\n",
       "      <td>Address Matched</td>\n",
       "      <td>101</td>\n",
       "    </tr>\n",
       "    <tr>\n",
       "      <th>1</th>\n",
       "      <td>1609256349302018022111362651682498</td>\n",
       "      <td>58, Winford Drive</td>\n",
       "      <td>NaN</td>\n",
       "      <td>NaN</td>\n",
       "      <td>EN10 6PP</td>\n",
       "      <td>392346578</td>\n",
       "      <td>F</td>\n",
       "      <td>C</td>\n",
       "      <td>34</td>\n",
       "      <td>80</td>\n",
       "      <td>...</td>\n",
       "      <td>Broxbourne</td>\n",
       "      <td>BROXBOURNE</td>\n",
       "      <td>England and Wales: 1967-1975</td>\n",
       "      <td>2018-02-21 11:36:26</td>\n",
       "      <td>unknown</td>\n",
       "      <td>NaN</td>\n",
       "      <td>NaN</td>\n",
       "      <td>148026589.0</td>\n",
       "      <td>Address Matched</td>\n",
       "      <td>100</td>\n",
       "    </tr>\n",
       "  </tbody>\n",
       "</table>\n",
       "<p>2 rows × 93 columns</p>\n",
       "</div>"
      ],
      "text/plain": [
       "                              LMK_KEY              ADDRESS1 ADDRESS2 ADDRESS3  \\\n",
       "0   543418525652010092113573890200980  59, King Edward Road      NaN      NaN   \n",
       "1  1609256349302018022111362651682498     58, Winford Drive      NaN      NaN   \n",
       "\n",
       "   POSTCODE  BUILDING_REFERENCE_NUMBER CURRENT_ENERGY_RATING  \\\n",
       "0   EN8 7HY                 9054500868                     B   \n",
       "1  EN10 6PP                  392346578                     F   \n",
       "\n",
       "  POTENTIAL_ENERGY_RATING  CURRENT_ENERGY_EFFICIENCY  \\\n",
       "0                       B                         85   \n",
       "1                       C                         34   \n",
       "\n",
       "   POTENTIAL_ENERGY_EFFICIENCY  ... CONSTITUENCY_LABEL       POSTTOWN  \\\n",
       "0                           85  ...         Broxbourne  WALTHAM CROSS   \n",
       "1                           80  ...         Broxbourne     BROXBOURNE   \n",
       "\n",
       "          CONSTRUCTION_AGE_BAND   LODGEMENT_DATETIME   TENURE  \\\n",
       "0                      NO DATA!  2010-09-21 13:57:38      NaN   \n",
       "1  England and Wales: 1967-1975  2018-02-21 11:36:26  unknown   \n",
       "\n",
       "  FIXED_LIGHTING_OUTLETS_COUNT LOW_ENERGY_FIXED_LIGHT_COUNT         UPRN  \\\n",
       "0                          NaN                          NaN  148013193.0   \n",
       "1                          NaN                          NaN  148026589.0   \n",
       "\n",
       "       UPRN_SOURCE  REPORT_TYPE  \n",
       "0  Address Matched          101  \n",
       "1  Address Matched          100  \n",
       "\n",
       "[2 rows x 93 columns]"
      ]
     },
     "execution_count": 4,
     "metadata": {},
     "output_type": "execute_result"
    }
   ],
   "source": [
    "epc = pd.read_csv(r\"C:\\Users\\Oke\\Downloads\\epc_dataset\\domestic-E07000095-Broxbourne\\certificates.csv\", sep=',')\n",
    "epc.head(2)"
   ]
  },
  {
   "cell_type": "code",
   "execution_count": 5,
   "id": "d40d27f4",
   "metadata": {},
   "outputs": [
    {
     "data": {
      "text/plain": [
       "Index(['LMK_KEY', 'ADDRESS1', 'ADDRESS2', 'ADDRESS3', 'POSTCODE',\n",
       "       'BUILDING_REFERENCE_NUMBER', 'CURRENT_ENERGY_RATING',\n",
       "       'POTENTIAL_ENERGY_RATING', 'CURRENT_ENERGY_EFFICIENCY',\n",
       "       'POTENTIAL_ENERGY_EFFICIENCY', 'PROPERTY_TYPE', 'BUILT_FORM',\n",
       "       'INSPECTION_DATE', 'LOCAL_AUTHORITY', 'CONSTITUENCY', 'COUNTY',\n",
       "       'LODGEMENT_DATE', 'TRANSACTION_TYPE', 'ENVIRONMENT_IMPACT_CURRENT',\n",
       "       'ENVIRONMENT_IMPACT_POTENTIAL', 'ENERGY_CONSUMPTION_CURRENT',\n",
       "       'ENERGY_CONSUMPTION_POTENTIAL', 'CO2_EMISSIONS_CURRENT',\n",
       "       'CO2_EMISS_CURR_PER_FLOOR_AREA', 'CO2_EMISSIONS_POTENTIAL',\n",
       "       'LIGHTING_COST_CURRENT', 'LIGHTING_COST_POTENTIAL',\n",
       "       'HEATING_COST_CURRENT', 'HEATING_COST_POTENTIAL',\n",
       "       'HOT_WATER_COST_CURRENT', 'HOT_WATER_COST_POTENTIAL',\n",
       "       'TOTAL_FLOOR_AREA', 'ENERGY_TARIFF', 'MAINS_GAS_FLAG', 'FLOOR_LEVEL',\n",
       "       'FLAT_TOP_STOREY', 'FLAT_STOREY_COUNT', 'MAIN_HEATING_CONTROLS',\n",
       "       'MULTI_GLAZE_PROPORTION', 'GLAZED_TYPE', 'GLAZED_AREA',\n",
       "       'EXTENSION_COUNT', 'NUMBER_HABITABLE_ROOMS', 'NUMBER_HEATED_ROOMS',\n",
       "       'LOW_ENERGY_LIGHTING', 'NUMBER_OPEN_FIREPLACES', 'HOTWATER_DESCRIPTION',\n",
       "       'HOT_WATER_ENERGY_EFF', 'HOT_WATER_ENV_EFF', 'FLOOR_DESCRIPTION',\n",
       "       'FLOOR_ENERGY_EFF', 'FLOOR_ENV_EFF', 'WINDOWS_DESCRIPTION',\n",
       "       'WINDOWS_ENERGY_EFF', 'WINDOWS_ENV_EFF', 'WALLS_DESCRIPTION',\n",
       "       'WALLS_ENERGY_EFF', 'WALLS_ENV_EFF', 'SECONDHEAT_DESCRIPTION',\n",
       "       'SHEATING_ENERGY_EFF', 'SHEATING_ENV_EFF', 'ROOF_DESCRIPTION',\n",
       "       'ROOF_ENERGY_EFF', 'ROOF_ENV_EFF', 'MAINHEAT_DESCRIPTION',\n",
       "       'MAINHEAT_ENERGY_EFF', 'MAINHEAT_ENV_EFF', 'MAINHEATCONT_DESCRIPTION',\n",
       "       'MAINHEATC_ENERGY_EFF', 'MAINHEATC_ENV_EFF', 'LIGHTING_DESCRIPTION',\n",
       "       'LIGHTING_ENERGY_EFF', 'LIGHTING_ENV_EFF', 'MAIN_FUEL',\n",
       "       'WIND_TURBINE_COUNT', 'HEAT_LOSS_CORRIDOR', 'UNHEATED_CORRIDOR_LENGTH',\n",
       "       'FLOOR_HEIGHT', 'PHOTO_SUPPLY', 'SOLAR_WATER_HEATING_FLAG',\n",
       "       'MECHANICAL_VENTILATION', 'ADDRESS', 'LOCAL_AUTHORITY_LABEL',\n",
       "       'CONSTITUENCY_LABEL', 'POSTTOWN', 'CONSTRUCTION_AGE_BAND',\n",
       "       'LODGEMENT_DATETIME', 'TENURE', 'FIXED_LIGHTING_OUTLETS_COUNT',\n",
       "       'LOW_ENERGY_FIXED_LIGHT_COUNT', 'UPRN', 'UPRN_SOURCE', 'REPORT_TYPE'],\n",
       "      dtype='object')"
      ]
     },
     "execution_count": 5,
     "metadata": {},
     "output_type": "execute_result"
    }
   ],
   "source": [
    "epc.columns"
   ]
  }
 ],
 "metadata": {
  "kernelspec": {
   "display_name": "Python 3",
   "language": "python",
   "name": "python3"
  },
  "language_info": {
   "codemirror_mode": {
    "name": "ipython",
    "version": 3
   },
   "file_extension": ".py",
   "mimetype": "text/x-python",
   "name": "python",
   "nbconvert_exporter": "python",
   "pygments_lexer": "ipython3",
   "version": "3.12.10"
  }
 },
 "nbformat": 4,
 "nbformat_minor": 5
}
